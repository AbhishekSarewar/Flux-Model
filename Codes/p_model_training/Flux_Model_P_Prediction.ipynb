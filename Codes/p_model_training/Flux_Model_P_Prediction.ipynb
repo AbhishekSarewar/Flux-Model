{
 "cells": [
  {
   "cell_type": "markdown",
   "metadata": {
    "toc": true
   },
   "source": [
    "<h1>Table of Contents<span class=\"tocSkip\"></span></h1>\n",
    "<div class=\"toc\"><ul class=\"toc-item\"><li><span><a href=\"#Importing-Datasets\" data-toc-modified-id=\"Importing-Datasets-1\"><span class=\"toc-item-num\">1&nbsp;&nbsp;</span>Importing Datasets</a></span><ul class=\"toc-item\"><li><span><a href=\"#Importing-Model-dev-data\" data-toc-modified-id=\"Importing-Model-dev-data-1.1\"><span class=\"toc-item-num\">1.1&nbsp;&nbsp;</span>Importing Model dev data</a></span></li></ul></li><li><span><a href=\"#Initial-Analysis\" data-toc-modified-id=\"Initial-Analysis-2\"><span class=\"toc-item-num\">2&nbsp;&nbsp;</span>Initial Analysis</a></span></li><li><span><a href=\"#Preprocessing-and-Null-Value-Treatment\" data-toc-modified-id=\"Preprocessing-and-Null-Value-Treatment-3\"><span class=\"toc-item-num\">3&nbsp;&nbsp;</span>Preprocessing and Null Value Treatment</a></span><ul class=\"toc-item\"><li><span><a href=\"#Preprocessing-Functions\" data-toc-modified-id=\"Preprocessing-Functions-3.1\"><span class=\"toc-item-num\">3.1&nbsp;&nbsp;</span>Preprocessing Functions</a></span></li><li><span><a href=\"#Null-Value-Imputation\" data-toc-modified-id=\"Null-Value-Imputation-3.2\"><span class=\"toc-item-num\">3.2&nbsp;&nbsp;</span>Null Value Imputation</a></span></li></ul></li><li><span><a href=\"#Training-Decision-Tree---Iteration-1\" data-toc-modified-id=\"Training-Decision-Tree---Iteration-1-4\"><span class=\"toc-item-num\">4&nbsp;&nbsp;</span>Training Decision Tree - Iteration 1</a></span><ul class=\"toc-item\"><li><span><a href=\"#Prerequisite-Functions\" data-toc-modified-id=\"Prerequisite-Functions-4.1\"><span class=\"toc-item-num\">4.1&nbsp;&nbsp;</span>Prerequisite Functions</a></span></li><li><span><a href=\"#Creating-Train-Test-split\" data-toc-modified-id=\"Creating-Train-Test-split-4.2\"><span class=\"toc-item-num\">4.2&nbsp;&nbsp;</span>Creating Train-Test split</a></span></li><li><span><a href=\"#Optimal-Hyperparameters\" data-toc-modified-id=\"Optimal-Hyperparameters-4.3\"><span class=\"toc-item-num\">4.3&nbsp;&nbsp;</span>Optimal Hyperparameters</a></span></li><li><span><a href=\"#Training-Decision-Tree\" data-toc-modified-id=\"Training-Decision-Tree-4.4\"><span class=\"toc-item-num\">4.4&nbsp;&nbsp;</span>Training Decision Tree</a></span></li><li><span><a href=\"#Performance-Measures\" data-toc-modified-id=\"Performance-Measures-4.5\"><span class=\"toc-item-num\">4.5&nbsp;&nbsp;</span>Performance Measures</a></span></li><li><span><a href=\"#Getting-the-rules-of-decision-tree\" data-toc-modified-id=\"Getting-the-rules-of-decision-tree-4.6\"><span class=\"toc-item-num\">4.6&nbsp;&nbsp;</span>Getting the rules of decision tree</a></span><ul class=\"toc-item\"><li><span><a href=\"#Running-regression-model-for-each-sample\" data-toc-modified-id=\"Running-regression-model-for-each-sample-4.6.1\"><span class=\"toc-item-num\">4.6.1&nbsp;&nbsp;</span>Running regression model for each sample</a></span></li></ul></li></ul></li><li><span><a href=\"#Optimization\" data-toc-modified-id=\"Optimization-5\"><span class=\"toc-item-num\">5&nbsp;&nbsp;</span>Optimization</a></span></li><li><span><a href=\"#Phosphorus-Predictions\" data-toc-modified-id=\"Phosphorus-Predictions-6\"><span class=\"toc-item-num\">6&nbsp;&nbsp;</span>Phosphorus Predictions</a></span></li><li><span><a href=\"#Working---Not-Relevant-to-Production-Code\" data-toc-modified-id=\"Working---Not-Relevant-to-Production-Code-7\"><span class=\"toc-item-num\">7&nbsp;&nbsp;</span>Working - Not Relevant to Production Code</a></span><ul class=\"toc-item\"><li><span><a href=\"#Testing-Models\" data-toc-modified-id=\"Testing-Models-7.1\"><span class=\"toc-item-num\">7.1&nbsp;&nbsp;</span>Testing Models</a></span><ul class=\"toc-item\"><li><span><a href=\"#Logistic-Regression-Testing\" data-toc-modified-id=\"Logistic-Regression-Testing-7.1.1\"><span class=\"toc-item-num\">7.1.1&nbsp;&nbsp;</span>Logistic Regression Testing</a></span></li></ul></li></ul></li></ul></div>"
   ]
  },
  {
   "cell_type": "code",
   "execution_count": 141,
   "metadata": {
    "ExecuteTime": {
     "end_time": "2021-10-20T11:40:28.787950Z",
     "start_time": "2021-10-20T11:40:21.108553Z"
    }
   },
   "outputs": [],
   "source": [
    "# Libraries\n",
    "import pandas as pd\n",
    "import numpy as np\n",
    "import time\n",
    "import datetime\n",
    "from datetime import timedelta\n",
    "import seaborn as sns\n",
    "from matplotlib import pyplot as plt\n",
    "import os\n",
    "#from sklearn.externals import joblib\n",
    "import joblib\n",
    "from sklearn.ensemble import RandomForestRegressor\n",
    "from sklearn.tree import DecisionTreeRegressor\n",
    "from sklearn.model_selection import GridSearchCV\n",
    "from numpy import arange\n",
    "import time\n",
    "#from xgboost import plot_importance\n",
    "from sklearn.model_selection import train_test_split\n",
    "#import xgboost\n",
    "from sklearn.metrics import r2_score, mean_squared_error, mean_absolute_error\n",
    "from statsmodels.stats.outliers_influence import variance_inflation_factor\n",
    "from math import sqrt\n",
    "from sklearn.preprocessing import LabelEncoder\n",
    "import pulp\n",
    "#from pycaret.regression import *\n",
    "import dill\n",
    "import json\n",
    "from pathlib import Path\n",
    "import statsmodels.api as sm\n",
    "from tqdm import tqdm\n",
    "from pulp import *"
   ]
  },
  {
   "cell_type": "code",
   "execution_count": 142,
   "metadata": {
    "ExecuteTime": {
     "end_time": "2021-10-20T11:40:28.848952Z",
     "start_time": "2021-10-20T11:40:28.842952Z"
    }
   },
   "outputs": [],
   "source": [
    "import warnings\n",
    "warnings.filterwarnings('ignore')\n",
    "\n",
    "pd.set_option('max_rows',500)\n",
    "pd.set_option('max_columns',500)\n",
    "\n",
    "# registering progress apply\n",
    "tqdm.pandas(desc = \"Processing Dataframe\")\n",
    "\n",
    "# run label\n",
    "now = datetime.datetime.now()\n",
    "now = now.strftime('%Y_%m_%d_%H_%M_%S')\n",
    "\n",
    "import os\n",
    "output_path=os.getcwd()+'\\\\Output Files'\n",
    "Path(output_path).mkdir(parents = True, exist_ok = True)\n",
    "\n",
    "# input path\n",
    "input_path=os.getcwd()+'\\\\Input Files'\n",
    "#input_path = \"../Input Files/\""
   ]
  },
  {
   "cell_type": "markdown",
   "metadata": {},
   "source": [
    "### Importing Datasets"
   ]
  },
  {
   "cell_type": "markdown",
   "metadata": {},
   "source": [
    "#### Importing Model dev data"
   ]
  },
  {
   "cell_type": "code",
   "execution_count": 143,
   "metadata": {
    "ExecuteTime": {
     "end_time": "2021-10-20T11:40:40.384604Z",
     "start_time": "2021-10-20T11:40:28.908978Z"
    }
   },
   "outputs": [],
   "source": [
    "# reading\n",
    "model_dev = pd.read_excel(\"raw_data.xlsx\")"
   ]
  },
  {
   "cell_type": "code",
   "execution_count": 144,
   "metadata": {
    "ExecuteTime": {
     "end_time": "2021-10-20T11:40:55.633587Z",
     "start_time": "2021-10-20T11:40:55.527428Z"
    }
   },
   "outputs": [
    {
     "data": {
      "text/html": [
       "<div>\n",
       "<style scoped>\n",
       "    .dataframe tbody tr th:only-of-type {\n",
       "        vertical-align: middle;\n",
       "    }\n",
       "\n",
       "    .dataframe tbody tr th {\n",
       "        vertical-align: top;\n",
       "    }\n",
       "\n",
       "    .dataframe thead th {\n",
       "        text-align: right;\n",
       "    }\n",
       "</style>\n",
       "<table border=\"1\" class=\"dataframe\">\n",
       "  <thead>\n",
       "    <tr style=\"text-align: right;\">\n",
       "      <th></th>\n",
       "      <th>File Name</th>\n",
       "      <th>Heat</th>\n",
       "      <th>Date</th>\n",
       "      <th>Shift</th>\n",
       "      <th>Grade</th>\n",
       "      <th>Start</th>\n",
       "      <th>Tap End</th>\n",
       "      <th>Previous Tap End</th>\n",
       "      <th>HotMetal [t]</th>\n",
       "      <th>BathWt [t]</th>\n",
       "      <th>Total Cyle Duration</th>\n",
       "      <th>1st Blow Start [datetime]</th>\n",
       "      <th>Last Blow End [datetime]</th>\n",
       "      <th>1st Arc Start [datetime]</th>\n",
       "      <th>Last Arc End [datetime]</th>\n",
       "      <th>SetDur</th>\n",
       "      <th>BlowDur</th>\n",
       "      <th>ArcDur</th>\n",
       "      <th>TapDur</th>\n",
       "      <th>Toplance Height [Mtr]</th>\n",
       "      <th>ToplanceFlowRate [Nm3/h]</th>\n",
       "      <th>O2Toplance [Nm3]</th>\n",
       "      <th>O2SideLance-B [Nm3]</th>\n",
       "      <th>O2SideLance-A [Nm3]</th>\n",
       "      <th>Tot O2 [Nm3]</th>\n",
       "      <th>Profile</th>\n",
       "      <th>Launder</th>\n",
       "      <th>Hot Heel [t]</th>\n",
       "      <th>Scrap [t]</th>\n",
       "      <th>Harsco [t]</th>\n",
       "      <th>Refurnace [t]</th>\n",
       "      <th>TorpedoNo1 [Num]</th>\n",
       "      <th>TorpedoNo2 [Num]</th>\n",
       "      <th>DRI-Blow [t]</th>\n",
       "      <th>DRI-Arc [t]</th>\n",
       "      <th>DRI [t]</th>\n",
       "      <th>LIME-BLOWI [t]</th>\n",
       "      <th>LIME-ARC [t]</th>\n",
       "      <th>TOTALLIME [t]</th>\n",
       "      <th>DOLO-BLOW [t]</th>\n",
       "      <th>DOLO-ARC [t]</th>\n",
       "      <th>TOTALDOLO [t]</th>\n",
       "      <th>Coke Nut [Kg]</th>\n",
       "      <th>Coke F [Kg]</th>\n",
       "      <th>Steel [t]</th>\n",
       "      <th>Yield [%]</th>\n",
       "      <th>Tot. El. Energy [kWh]</th>\n",
       "      <th>Energy [kWh/t]</th>\n",
       "      <th>O2AftCelox [Nm3]</th>\n",
       "      <th>O2/HM [Nm3/t]</th>\n",
       "      <th>Power-Off [min]</th>\n",
       "      <th>BlowToArc [min]</th>\n",
       "      <th>ArcToTap [min]</th>\n",
       "      <th>BlowToTap [min]</th>\n",
       "      <th>Delay [min]</th>\n",
       "      <th>Temp [Â°C]</th>\n",
       "      <th>C [%]</th>\n",
       "      <th>O [ppm]</th>\n",
       "      <th>O2DECARB [NmÂ³]</th>\n",
       "      <th>DRI Setup</th>\n",
       "      <th>Lime Setup</th>\n",
       "      <th>Dololime Setup</th>\n",
       "      <th>Shell</th>\n",
       "      <th>HM_C</th>\n",
       "      <th>HM_SI</th>\n",
       "      <th>HM_S</th>\n",
       "      <th>HM_P</th>\n",
       "      <th>HM_N</th>\n",
       "      <th>HM_MN</th>\n",
       "      <th>LM_P</th>\n",
       "      <th>Slag\\n%CaO</th>\n",
       "      <th>Slag\\n%MgO</th>\n",
       "      <th>Slag\\n%SiO2</th>\n",
       "      <th>Slag\\n%AI2O3</th>\n",
       "      <th>Slag %TIO2</th>\n",
       "      <th>Slag %TFE</th>\n",
       "      <th>Slag %MnO</th>\n",
       "      <th>Slag %P2O5</th>\n",
       "      <th>Slag %S</th>\n",
       "      <th>Slag Chemistry (Y/N)</th>\n",
       "      <th>Basicity</th>\n",
       "    </tr>\n",
       "  </thead>\n",
       "  <tbody>\n",
       "    <tr>\n",
       "      <th>0</th>\n",
       "      <td>JUNE_JULY_21</td>\n",
       "      <td>21102439</td>\n",
       "      <td>2021-06-01</td>\n",
       "      <td>C</td>\n",
       "      <td>JDTL0550DN</td>\n",
       "      <td>23:03:00</td>\n",
       "      <td>00:08:00</td>\n",
       "      <td>22:47:00</td>\n",
       "      <td>131.0</td>\n",
       "      <td>233.1</td>\n",
       "      <td>01:20:56</td>\n",
       "      <td>23:03:49</td>\n",
       "      <td>23:33:52</td>\n",
       "      <td>23:37:23</td>\n",
       "      <td>00:02:00</td>\n",
       "      <td>00:16:30</td>\n",
       "      <td>00:30:03</td>\n",
       "      <td>00:24:37</td>\n",
       "      <td>00:02:14</td>\n",
       "      <td>10.4</td>\n",
       "      <td>231.6</td>\n",
       "      <td>6880.4</td>\n",
       "      <td>840.8</td>\n",
       "      <td>3391.5</td>\n",
       "      <td>11908.7</td>\n",
       "      <td>CONARC without SCRAP Cojet1-3</td>\n",
       "      <td>Top</td>\n",
       "      <td>43.0</td>\n",
       "      <td>15.0</td>\n",
       "      <td>15.0</td>\n",
       "      <td>NaN</td>\n",
       "      <td>8</td>\n",
       "      <td>NaN</td>\n",
       "      <td>8.6</td>\n",
       "      <td>63.9</td>\n",
       "      <td>72.5</td>\n",
       "      <td>8.5</td>\n",
       "      <td>NaN</td>\n",
       "      <td>10.0</td>\n",
       "      <td>NaN</td>\n",
       "      <td>8.0</td>\n",
       "      <td>8.0</td>\n",
       "      <td>670.0</td>\n",
       "      <td>92.1</td>\n",
       "      <td>177.3</td>\n",
       "      <td>75.3</td>\n",
       "      <td>41991.7</td>\n",
       "      <td>236.9</td>\n",
       "      <td>0.0</td>\n",
       "      <td>86.7</td>\n",
       "      <td>56.3</td>\n",
       "      <td>00:03:31</td>\n",
       "      <td>00:04:01</td>\n",
       "      <td>00:00:00</td>\n",
       "      <td>7.7</td>\n",
       "      <td>1656.0</td>\n",
       "      <td>0.030</td>\n",
       "      <td>928.0</td>\n",
       "      <td>3392</td>\n",
       "      <td>0.0</td>\n",
       "      <td>1.5</td>\n",
       "      <td>0.0</td>\n",
       "      <td>1</td>\n",
       "      <td>4.58</td>\n",
       "      <td>0.60</td>\n",
       "      <td>0.029</td>\n",
       "      <td>0.128</td>\n",
       "      <td>0.004</td>\n",
       "      <td>0.709</td>\n",
       "      <td>0.013</td>\n",
       "      <td>NaN</td>\n",
       "      <td>NaN</td>\n",
       "      <td>NaN</td>\n",
       "      <td>NaN</td>\n",
       "      <td>NaN</td>\n",
       "      <td>NaN</td>\n",
       "      <td>NaN</td>\n",
       "      <td>NaN</td>\n",
       "      <td>NaN</td>\n",
       "      <td>No</td>\n",
       "      <td>NaN</td>\n",
       "    </tr>\n",
       "    <tr>\n",
       "      <th>1</th>\n",
       "      <td>JUNE_JULY_21</td>\n",
       "      <td>21402457</td>\n",
       "      <td>2021-06-01</td>\n",
       "      <td>C</td>\n",
       "      <td>JDHCG04B1N</td>\n",
       "      <td>23:32:00</td>\n",
       "      <td>00:42:00</td>\n",
       "      <td>23:15:00</td>\n",
       "      <td>131.0</td>\n",
       "      <td>227.1</td>\n",
       "      <td>01:27:07</td>\n",
       "      <td>23:32:20</td>\n",
       "      <td>23:59:34</td>\n",
       "      <td>00:03:02</td>\n",
       "      <td>00:30:31</td>\n",
       "      <td>00:17:09</td>\n",
       "      <td>00:27:14</td>\n",
       "      <td>00:27:29</td>\n",
       "      <td>00:02:11</td>\n",
       "      <td>10.4</td>\n",
       "      <td>238.7</td>\n",
       "      <td>6293.2</td>\n",
       "      <td>683.9</td>\n",
       "      <td>3113.0</td>\n",
       "      <td>10934.1</td>\n",
       "      <td>CONARC without SCRAP Cojet1-3</td>\n",
       "      <td>Launder</td>\n",
       "      <td>30.0</td>\n",
       "      <td>NaN</td>\n",
       "      <td>NaN</td>\n",
       "      <td>NaN</td>\n",
       "      <td>7</td>\n",
       "      <td>NaN</td>\n",
       "      <td>29.2</td>\n",
       "      <td>66.6</td>\n",
       "      <td>95.8</td>\n",
       "      <td>5.0</td>\n",
       "      <td>3.7</td>\n",
       "      <td>8.7</td>\n",
       "      <td>NaN</td>\n",
       "      <td>5.8</td>\n",
       "      <td>9.0</td>\n",
       "      <td>180.0</td>\n",
       "      <td>1502.0</td>\n",
       "      <td>194.6</td>\n",
       "      <td>85.5</td>\n",
       "      <td>40700.0</td>\n",
       "      <td>209.1</td>\n",
       "      <td>0.0</td>\n",
       "      <td>78.5</td>\n",
       "      <td>59.6</td>\n",
       "      <td>00:03:28</td>\n",
       "      <td>00:09:36</td>\n",
       "      <td>00:00:00</td>\n",
       "      <td>16.8</td>\n",
       "      <td>1620.0</td>\n",
       "      <td>0.030</td>\n",
       "      <td>896.0</td>\n",
       "      <td>3113</td>\n",
       "      <td>0.0</td>\n",
       "      <td>0.0</td>\n",
       "      <td>3.2</td>\n",
       "      <td>4</td>\n",
       "      <td>4.56</td>\n",
       "      <td>0.55</td>\n",
       "      <td>0.032</td>\n",
       "      <td>0.122</td>\n",
       "      <td>0.004</td>\n",
       "      <td>0.699</td>\n",
       "      <td>0.008</td>\n",
       "      <td>NaN</td>\n",
       "      <td>NaN</td>\n",
       "      <td>NaN</td>\n",
       "      <td>NaN</td>\n",
       "      <td>NaN</td>\n",
       "      <td>NaN</td>\n",
       "      <td>NaN</td>\n",
       "      <td>NaN</td>\n",
       "      <td>NaN</td>\n",
       "      <td>No</td>\n",
       "      <td>NaN</td>\n",
       "    </tr>\n",
       "    <tr>\n",
       "      <th>2</th>\n",
       "      <td>JUNE_JULY_21</td>\n",
       "      <td>21202401</td>\n",
       "      <td>2021-06-01</td>\n",
       "      <td>C</td>\n",
       "      <td>JDHWT41KLZ</td>\n",
       "      <td>23:35:00</td>\n",
       "      <td>00:36:00</td>\n",
       "      <td>23:18:00</td>\n",
       "      <td>138.0</td>\n",
       "      <td>235.2</td>\n",
       "      <td>01:17:42</td>\n",
       "      <td>23:35:04</td>\n",
       "      <td>00:05:35</td>\n",
       "      <td>00:08:25</td>\n",
       "      <td>00:30:46</td>\n",
       "      <td>00:16:38</td>\n",
       "      <td>00:30:31</td>\n",
       "      <td>00:22:21</td>\n",
       "      <td>00:02:40</td>\n",
       "      <td>10.3</td>\n",
       "      <td>244.0</td>\n",
       "      <td>7256.8</td>\n",
       "      <td>700.4</td>\n",
       "      <td>3188.8</td>\n",
       "      <td>11757.8</td>\n",
       "      <td>CONARC with SCRAP</td>\n",
       "      <td>Top</td>\n",
       "      <td>40.4</td>\n",
       "      <td>17.0</td>\n",
       "      <td>13.0</td>\n",
       "      <td>NaN</td>\n",
       "      <td>7</td>\n",
       "      <td>NaN</td>\n",
       "      <td>1.0</td>\n",
       "      <td>66.2</td>\n",
       "      <td>67.2</td>\n",
       "      <td>2.7</td>\n",
       "      <td>7.1</td>\n",
       "      <td>9.8</td>\n",
       "      <td>NaN</td>\n",
       "      <td>4.0</td>\n",
       "      <td>6.0</td>\n",
       "      <td>140.0</td>\n",
       "      <td>397.1</td>\n",
       "      <td>182.4</td>\n",
       "      <td>76.7</td>\n",
       "      <td>35563.7</td>\n",
       "      <td>194.9</td>\n",
       "      <td>112.0</td>\n",
       "      <td>81.9</td>\n",
       "      <td>56.1</td>\n",
       "      <td>00:02:50</td>\n",
       "      <td>00:02:42</td>\n",
       "      <td>00:00:00</td>\n",
       "      <td>3.4</td>\n",
       "      <td>1603.0</td>\n",
       "      <td>0.024</td>\n",
       "      <td>1121.0</td>\n",
       "      <td>3189</td>\n",
       "      <td>0.0</td>\n",
       "      <td>0.0</td>\n",
       "      <td>2.0</td>\n",
       "      <td>2</td>\n",
       "      <td>4.56</td>\n",
       "      <td>0.55</td>\n",
       "      <td>0.032</td>\n",
       "      <td>0.122</td>\n",
       "      <td>0.004</td>\n",
       "      <td>0.699</td>\n",
       "      <td>0.015</td>\n",
       "      <td>NaN</td>\n",
       "      <td>NaN</td>\n",
       "      <td>NaN</td>\n",
       "      <td>NaN</td>\n",
       "      <td>NaN</td>\n",
       "      <td>NaN</td>\n",
       "      <td>NaN</td>\n",
       "      <td>NaN</td>\n",
       "      <td>NaN</td>\n",
       "      <td>No</td>\n",
       "      <td>NaN</td>\n",
       "    </tr>\n",
       "    <tr>\n",
       "      <th>3</th>\n",
       "      <td>JUNE_JULY_21</td>\n",
       "      <td>21302425</td>\n",
       "      <td>2021-06-01</td>\n",
       "      <td>C</td>\n",
       "      <td>JDTL0550DN</td>\n",
       "      <td>00:04:00</td>\n",
       "      <td>01:14:00</td>\n",
       "      <td>23:53:00</td>\n",
       "      <td>129.0</td>\n",
       "      <td>210.2</td>\n",
       "      <td>01:21:44</td>\n",
       "      <td>00:04:47</td>\n",
       "      <td>00:32:33</td>\n",
       "      <td>00:43:30</td>\n",
       "      <td>01:08:15</td>\n",
       "      <td>00:11:36</td>\n",
       "      <td>00:27:45</td>\n",
       "      <td>00:24:45</td>\n",
       "      <td>00:02:24</td>\n",
       "      <td>10.6</td>\n",
       "      <td>222.2</td>\n",
       "      <td>5849.0</td>\n",
       "      <td>753.8</td>\n",
       "      <td>2832.8</td>\n",
       "      <td>10196.2</td>\n",
       "      <td>CONARC without SCRAP Cojet1-3</td>\n",
       "      <td>Launder</td>\n",
       "      <td>9.0</td>\n",
       "      <td>NaN</td>\n",
       "      <td>NaN</td>\n",
       "      <td>NaN</td>\n",
       "      <td>2</td>\n",
       "      <td>NaN</td>\n",
       "      <td>24.9</td>\n",
       "      <td>56.4</td>\n",
       "      <td>81.3</td>\n",
       "      <td>4.1</td>\n",
       "      <td>4.6</td>\n",
       "      <td>8.7</td>\n",
       "      <td>NaN</td>\n",
       "      <td>6.5</td>\n",
       "      <td>9.8</td>\n",
       "      <td>110.0</td>\n",
       "      <td>232.0</td>\n",
       "      <td>191.4</td>\n",
       "      <td>90.9</td>\n",
       "      <td>36600.0</td>\n",
       "      <td>191.2</td>\n",
       "      <td>0.0</td>\n",
       "      <td>74.2</td>\n",
       "      <td>57.0</td>\n",
       "      <td>00:10:57</td>\n",
       "      <td>00:04:16</td>\n",
       "      <td>00:00:00</td>\n",
       "      <td>12.4</td>\n",
       "      <td>1602.0</td>\n",
       "      <td>0.027</td>\n",
       "      <td>964.0</td>\n",
       "      <td>2833</td>\n",
       "      <td>0.0</td>\n",
       "      <td>0.0</td>\n",
       "      <td>3.3</td>\n",
       "      <td>3</td>\n",
       "      <td>4.51</td>\n",
       "      <td>0.34</td>\n",
       "      <td>0.031</td>\n",
       "      <td>0.126</td>\n",
       "      <td>0.004</td>\n",
       "      <td>0.697</td>\n",
       "      <td>0.021</td>\n",
       "      <td>NaN</td>\n",
       "      <td>NaN</td>\n",
       "      <td>NaN</td>\n",
       "      <td>NaN</td>\n",
       "      <td>NaN</td>\n",
       "      <td>NaN</td>\n",
       "      <td>NaN</td>\n",
       "      <td>NaN</td>\n",
       "      <td>NaN</td>\n",
       "      <td>No</td>\n",
       "      <td>NaN</td>\n",
       "    </tr>\n",
       "    <tr>\n",
       "      <th>4</th>\n",
       "      <td>JUNE_JULY_21</td>\n",
       "      <td>21102440</td>\n",
       "      <td>2021-06-01</td>\n",
       "      <td>C</td>\n",
       "      <td>JDHWT41KLZ</td>\n",
       "      <td>00:32:00</td>\n",
       "      <td>01:44:00</td>\n",
       "      <td>00:08:00</td>\n",
       "      <td>130.0</td>\n",
       "      <td>229.2</td>\n",
       "      <td>01:36:41</td>\n",
       "      <td>00:32:46</td>\n",
       "      <td>01:03:17</td>\n",
       "      <td>01:12:23</td>\n",
       "      <td>01:37:14</td>\n",
       "      <td>00:24:31</td>\n",
       "      <td>00:30:31</td>\n",
       "      <td>00:24:51</td>\n",
       "      <td>00:04:03</td>\n",
       "      <td>10.4</td>\n",
       "      <td>234.3</td>\n",
       "      <td>6906.5</td>\n",
       "      <td>825.2</td>\n",
       "      <td>4201.7</td>\n",
       "      <td>12958.5</td>\n",
       "      <td>CONARC 100% DRI Single Shell</td>\n",
       "      <td>Top</td>\n",
       "      <td>51.4</td>\n",
       "      <td>17.0</td>\n",
       "      <td>13.0</td>\n",
       "      <td>NaN</td>\n",
       "      <td>9</td>\n",
       "      <td>NaN</td>\n",
       "      <td>9.0</td>\n",
       "      <td>59.8</td>\n",
       "      <td>68.8</td>\n",
       "      <td>10.8</td>\n",
       "      <td>1.0</td>\n",
       "      <td>11.8</td>\n",
       "      <td>NaN</td>\n",
       "      <td>5.8</td>\n",
       "      <td>7.8</td>\n",
       "      <td>NaN</td>\n",
       "      <td>309.4</td>\n",
       "      <td>180.7</td>\n",
       "      <td>78.0</td>\n",
       "      <td>42032.0</td>\n",
       "      <td>232.5</td>\n",
       "      <td>0.0</td>\n",
       "      <td>94.1</td>\n",
       "      <td>72.4</td>\n",
       "      <td>00:09:06</td>\n",
       "      <td>00:03:39</td>\n",
       "      <td>00:00:00</td>\n",
       "      <td>54.4</td>\n",
       "      <td>1658.0</td>\n",
       "      <td>0.022</td>\n",
       "      <td>1306.0</td>\n",
       "      <td>4202</td>\n",
       "      <td>0.0</td>\n",
       "      <td>0.0</td>\n",
       "      <td>2.0</td>\n",
       "      <td>1</td>\n",
       "      <td>4.63</td>\n",
       "      <td>0.75</td>\n",
       "      <td>0.014</td>\n",
       "      <td>0.135</td>\n",
       "      <td>0.004</td>\n",
       "      <td>0.889</td>\n",
       "      <td>0.010</td>\n",
       "      <td>NaN</td>\n",
       "      <td>NaN</td>\n",
       "      <td>NaN</td>\n",
       "      <td>NaN</td>\n",
       "      <td>NaN</td>\n",
       "      <td>NaN</td>\n",
       "      <td>NaN</td>\n",
       "      <td>NaN</td>\n",
       "      <td>NaN</td>\n",
       "      <td>No</td>\n",
       "      <td>NaN</td>\n",
       "    </tr>\n",
       "    <tr>\n",
       "      <th>...</th>\n",
       "      <td>...</td>\n",
       "      <td>...</td>\n",
       "      <td>...</td>\n",
       "      <td>...</td>\n",
       "      <td>...</td>\n",
       "      <td>...</td>\n",
       "      <td>...</td>\n",
       "      <td>...</td>\n",
       "      <td>...</td>\n",
       "      <td>...</td>\n",
       "      <td>...</td>\n",
       "      <td>...</td>\n",
       "      <td>...</td>\n",
       "      <td>...</td>\n",
       "      <td>...</td>\n",
       "      <td>...</td>\n",
       "      <td>...</td>\n",
       "      <td>...</td>\n",
       "      <td>...</td>\n",
       "      <td>...</td>\n",
       "      <td>...</td>\n",
       "      <td>...</td>\n",
       "      <td>...</td>\n",
       "      <td>...</td>\n",
       "      <td>...</td>\n",
       "      <td>...</td>\n",
       "      <td>...</td>\n",
       "      <td>...</td>\n",
       "      <td>...</td>\n",
       "      <td>...</td>\n",
       "      <td>...</td>\n",
       "      <td>...</td>\n",
       "      <td>...</td>\n",
       "      <td>...</td>\n",
       "      <td>...</td>\n",
       "      <td>...</td>\n",
       "      <td>...</td>\n",
       "      <td>...</td>\n",
       "      <td>...</td>\n",
       "      <td>...</td>\n",
       "      <td>...</td>\n",
       "      <td>...</td>\n",
       "      <td>...</td>\n",
       "      <td>...</td>\n",
       "      <td>...</td>\n",
       "      <td>...</td>\n",
       "      <td>...</td>\n",
       "      <td>...</td>\n",
       "      <td>...</td>\n",
       "      <td>...</td>\n",
       "      <td>...</td>\n",
       "      <td>...</td>\n",
       "      <td>...</td>\n",
       "      <td>...</td>\n",
       "      <td>...</td>\n",
       "      <td>...</td>\n",
       "      <td>...</td>\n",
       "      <td>...</td>\n",
       "      <td>...</td>\n",
       "      <td>...</td>\n",
       "      <td>...</td>\n",
       "      <td>...</td>\n",
       "      <td>...</td>\n",
       "      <td>...</td>\n",
       "      <td>...</td>\n",
       "      <td>...</td>\n",
       "      <td>...</td>\n",
       "      <td>...</td>\n",
       "      <td>...</td>\n",
       "      <td>...</td>\n",
       "      <td>...</td>\n",
       "      <td>...</td>\n",
       "      <td>...</td>\n",
       "      <td>...</td>\n",
       "      <td>...</td>\n",
       "      <td>...</td>\n",
       "      <td>...</td>\n",
       "      <td>...</td>\n",
       "      <td>...</td>\n",
       "      <td>...</td>\n",
       "      <td>...</td>\n",
       "    </tr>\n",
       "    <tr>\n",
       "      <th>13430</th>\n",
       "      <td>NaN</td>\n",
       "      <td>21200587</td>\n",
       "      <td>2021-02-05</td>\n",
       "      <td>2/A</td>\n",
       "      <td>JDHWT41ALN</td>\n",
       "      <td>21:08:00</td>\n",
       "      <td>22:11:00</td>\n",
       "      <td>20:58:00</td>\n",
       "      <td>165.0</td>\n",
       "      <td>212.5</td>\n",
       "      <td>01:12:47</td>\n",
       "      <td>21:08:42</td>\n",
       "      <td>22:06:14</td>\n",
       "      <td>NaN</td>\n",
       "      <td>NaN</td>\n",
       "      <td>00:10:28</td>\n",
       "      <td>00:57:31</td>\n",
       "      <td>00:00:00</td>\n",
       "      <td>00:00:49</td>\n",
       "      <td>10.5</td>\n",
       "      <td>241.9</td>\n",
       "      <td>10040.2</td>\n",
       "      <td>1148.8</td>\n",
       "      <td>NaN</td>\n",
       "      <td>11591.0</td>\n",
       "      <td>100% HOTMETAL</td>\n",
       "      <td>Launder</td>\n",
       "      <td>6.6</td>\n",
       "      <td>NaN</td>\n",
       "      <td>NaN</td>\n",
       "      <td>NaN</td>\n",
       "      <td>8</td>\n",
       "      <td>NaN</td>\n",
       "      <td>41.9</td>\n",
       "      <td>NaN</td>\n",
       "      <td>47.3</td>\n",
       "      <td>8.0</td>\n",
       "      <td>NaN</td>\n",
       "      <td>10.0</td>\n",
       "      <td>NaN</td>\n",
       "      <td>NaN</td>\n",
       "      <td>1.0</td>\n",
       "      <td>120.0</td>\n",
       "      <td>233.0</td>\n",
       "      <td>196.1</td>\n",
       "      <td>91.7</td>\n",
       "      <td>0.0</td>\n",
       "      <td>0.0</td>\n",
       "      <td>0.0</td>\n",
       "      <td>68093.0</td>\n",
       "      <td>72.8</td>\n",
       "      <td>00:00:00</td>\n",
       "      <td>00:00:00</td>\n",
       "      <td>00:03:58</td>\n",
       "      <td>15.0</td>\n",
       "      <td>1622.0</td>\n",
       "      <td>0.023</td>\n",
       "      <td>1158.0</td>\n",
       "      <td>0</td>\n",
       "      <td>5.4</td>\n",
       "      <td>2.0</td>\n",
       "      <td>1.0</td>\n",
       "      <td>2</td>\n",
       "      <td>4.47</td>\n",
       "      <td>0.44</td>\n",
       "      <td>0.022</td>\n",
       "      <td>0.109</td>\n",
       "      <td>0.004</td>\n",
       "      <td>0.120</td>\n",
       "      <td>0.016</td>\n",
       "      <td>NaN</td>\n",
       "      <td>NaN</td>\n",
       "      <td>NaN</td>\n",
       "      <td>NaN</td>\n",
       "      <td>NaN</td>\n",
       "      <td>NaN</td>\n",
       "      <td>NaN</td>\n",
       "      <td>NaN</td>\n",
       "      <td>NaN</td>\n",
       "      <td>No</td>\n",
       "      <td>NaN</td>\n",
       "    </tr>\n",
       "    <tr>\n",
       "      <th>13431</th>\n",
       "      <td>NaN</td>\n",
       "      <td>21200587</td>\n",
       "      <td>2021-02-06</td>\n",
       "      <td>2/A</td>\n",
       "      <td>JDHWT41ALN</td>\n",
       "      <td>21:08:00</td>\n",
       "      <td>22:11:00</td>\n",
       "      <td>20:58:00</td>\n",
       "      <td>165.0</td>\n",
       "      <td>212.5</td>\n",
       "      <td>01:12:47</td>\n",
       "      <td>21:08:42</td>\n",
       "      <td>22:06:14</td>\n",
       "      <td>NaN</td>\n",
       "      <td>NaN</td>\n",
       "      <td>00:10:28</td>\n",
       "      <td>00:57:31</td>\n",
       "      <td>00:00:00</td>\n",
       "      <td>00:00:49</td>\n",
       "      <td>10.5</td>\n",
       "      <td>241.9</td>\n",
       "      <td>10040.2</td>\n",
       "      <td>1148.8</td>\n",
       "      <td>NaN</td>\n",
       "      <td>11591.0</td>\n",
       "      <td>100% HOTMETAL</td>\n",
       "      <td>Launder</td>\n",
       "      <td>6.6</td>\n",
       "      <td>NaN</td>\n",
       "      <td>NaN</td>\n",
       "      <td>NaN</td>\n",
       "      <td>8</td>\n",
       "      <td>NaN</td>\n",
       "      <td>41.9</td>\n",
       "      <td>NaN</td>\n",
       "      <td>47.3</td>\n",
       "      <td>8.0</td>\n",
       "      <td>NaN</td>\n",
       "      <td>10.0</td>\n",
       "      <td>NaN</td>\n",
       "      <td>NaN</td>\n",
       "      <td>1.0</td>\n",
       "      <td>120.0</td>\n",
       "      <td>233.0</td>\n",
       "      <td>196.1</td>\n",
       "      <td>91.7</td>\n",
       "      <td>0.0</td>\n",
       "      <td>0.0</td>\n",
       "      <td>0.0</td>\n",
       "      <td>68093.0</td>\n",
       "      <td>72.8</td>\n",
       "      <td>00:00:00</td>\n",
       "      <td>00:00:00</td>\n",
       "      <td>00:03:58</td>\n",
       "      <td>15.0</td>\n",
       "      <td>1622.0</td>\n",
       "      <td>0.023</td>\n",
       "      <td>1158.0</td>\n",
       "      <td>0</td>\n",
       "      <td>5.4</td>\n",
       "      <td>2.0</td>\n",
       "      <td>1.0</td>\n",
       "      <td>2</td>\n",
       "      <td>4.47</td>\n",
       "      <td>0.44</td>\n",
       "      <td>0.022</td>\n",
       "      <td>0.109</td>\n",
       "      <td>0.004</td>\n",
       "      <td>0.120</td>\n",
       "      <td>0.016</td>\n",
       "      <td>NaN</td>\n",
       "      <td>NaN</td>\n",
       "      <td>NaN</td>\n",
       "      <td>NaN</td>\n",
       "      <td>NaN</td>\n",
       "      <td>NaN</td>\n",
       "      <td>NaN</td>\n",
       "      <td>NaN</td>\n",
       "      <td>NaN</td>\n",
       "      <td>No</td>\n",
       "      <td>NaN</td>\n",
       "    </tr>\n",
       "    <tr>\n",
       "      <th>13432</th>\n",
       "      <td>NaN</td>\n",
       "      <td>21300594</td>\n",
       "      <td>2021-02-06</td>\n",
       "      <td>2/C</td>\n",
       "      <td>JDTL0550DN</td>\n",
       "      <td>21:56:00</td>\n",
       "      <td>23:14:00</td>\n",
       "      <td>21:37:00</td>\n",
       "      <td>140.0</td>\n",
       "      <td>244.2</td>\n",
       "      <td>01:36:37</td>\n",
       "      <td>21:56:03</td>\n",
       "      <td>22:29:34</td>\n",
       "      <td>22:35:02</td>\n",
       "      <td>23:08:37</td>\n",
       "      <td>00:18:14</td>\n",
       "      <td>00:33:31</td>\n",
       "      <td>00:33:35</td>\n",
       "      <td>00:02:53</td>\n",
       "      <td>10.5</td>\n",
       "      <td>213.4</td>\n",
       "      <td>7142.6</td>\n",
       "      <td>545.3</td>\n",
       "      <td>2793.0</td>\n",
       "      <td>11201.3</td>\n",
       "      <td>CONARC without SCRAP</td>\n",
       "      <td>Top</td>\n",
       "      <td>33.0</td>\n",
       "      <td>NaN</td>\n",
       "      <td>NaN</td>\n",
       "      <td>NaN</td>\n",
       "      <td>7</td>\n",
       "      <td>NaN</td>\n",
       "      <td>24.0</td>\n",
       "      <td>77.4</td>\n",
       "      <td>104.2</td>\n",
       "      <td>6.8</td>\n",
       "      <td>1.8</td>\n",
       "      <td>9.7</td>\n",
       "      <td>NaN</td>\n",
       "      <td>8.7</td>\n",
       "      <td>10.8</td>\n",
       "      <td>NaN</td>\n",
       "      <td>427.0</td>\n",
       "      <td>210.2</td>\n",
       "      <td>86.0</td>\n",
       "      <td>48600.0</td>\n",
       "      <td>231.2</td>\n",
       "      <td>0.0</td>\n",
       "      <td>75834.8</td>\n",
       "      <td>63.6</td>\n",
       "      <td>00:05:28</td>\n",
       "      <td>00:02:56</td>\n",
       "      <td>00:00:00</td>\n",
       "      <td>21.3</td>\n",
       "      <td>1638.0</td>\n",
       "      <td>0.026</td>\n",
       "      <td>1040.0</td>\n",
       "      <td>2793</td>\n",
       "      <td>2.8</td>\n",
       "      <td>1.1</td>\n",
       "      <td>2.1</td>\n",
       "      <td>3</td>\n",
       "      <td>4.52</td>\n",
       "      <td>0.37</td>\n",
       "      <td>0.023</td>\n",
       "      <td>0.118</td>\n",
       "      <td>0.004</td>\n",
       "      <td>0.107</td>\n",
       "      <td>0.017</td>\n",
       "      <td>NaN</td>\n",
       "      <td>NaN</td>\n",
       "      <td>NaN</td>\n",
       "      <td>NaN</td>\n",
       "      <td>NaN</td>\n",
       "      <td>NaN</td>\n",
       "      <td>NaN</td>\n",
       "      <td>NaN</td>\n",
       "      <td>NaN</td>\n",
       "      <td>No</td>\n",
       "      <td>NaN</td>\n",
       "    </tr>\n",
       "    <tr>\n",
       "      <th>13433</th>\n",
       "      <td>NaN</td>\n",
       "      <td>21400579</td>\n",
       "      <td>2021-02-06</td>\n",
       "      <td>3/B</td>\n",
       "      <td>JDHCG04ACN</td>\n",
       "      <td>22:15:00</td>\n",
       "      <td>23:55:00</td>\n",
       "      <td>21:59:00</td>\n",
       "      <td>170.0</td>\n",
       "      <td>240.3</td>\n",
       "      <td>01:56:09</td>\n",
       "      <td>22:15:25</td>\n",
       "      <td>22:55:33</td>\n",
       "      <td>23:13:19</td>\n",
       "      <td>23:47:44</td>\n",
       "      <td>00:16:17</td>\n",
       "      <td>00:40:07</td>\n",
       "      <td>00:34:25</td>\n",
       "      <td>00:03:17</td>\n",
       "      <td>10.6</td>\n",
       "      <td>230.6</td>\n",
       "      <td>8776.9</td>\n",
       "      <td>1343.6</td>\n",
       "      <td>1827.7</td>\n",
       "      <td>12691.5</td>\n",
       "      <td>CONARC without SCRAP</td>\n",
       "      <td>Launder</td>\n",
       "      <td>70.0</td>\n",
       "      <td>NaN</td>\n",
       "      <td>NaN</td>\n",
       "      <td>NaN</td>\n",
       "      <td>3</td>\n",
       "      <td>NaN</td>\n",
       "      <td>43.2</td>\n",
       "      <td>25.1</td>\n",
       "      <td>70.7</td>\n",
       "      <td>10.0</td>\n",
       "      <td>NaN</td>\n",
       "      <td>10.0</td>\n",
       "      <td>NaN</td>\n",
       "      <td>2.5</td>\n",
       "      <td>5.5</td>\n",
       "      <td>30.0</td>\n",
       "      <td>834.0</td>\n",
       "      <td>190.0</td>\n",
       "      <td>79.0</td>\n",
       "      <td>23300.0</td>\n",
       "      <td>122.6</td>\n",
       "      <td>124.7</td>\n",
       "      <td>70960.1</td>\n",
       "      <td>97.4</td>\n",
       "      <td>00:17:46</td>\n",
       "      <td>00:04:16</td>\n",
       "      <td>00:00:00</td>\n",
       "      <td>43.1</td>\n",
       "      <td>1625.0</td>\n",
       "      <td>0.020</td>\n",
       "      <td>946.0</td>\n",
       "      <td>1828</td>\n",
       "      <td>2.4</td>\n",
       "      <td>0.0</td>\n",
       "      <td>3.0</td>\n",
       "      <td>4</td>\n",
       "      <td>4.53</td>\n",
       "      <td>0.44</td>\n",
       "      <td>0.020</td>\n",
       "      <td>0.112</td>\n",
       "      <td>0.004</td>\n",
       "      <td>0.117</td>\n",
       "      <td>0.012</td>\n",
       "      <td>NaN</td>\n",
       "      <td>NaN</td>\n",
       "      <td>NaN</td>\n",
       "      <td>NaN</td>\n",
       "      <td>NaN</td>\n",
       "      <td>NaN</td>\n",
       "      <td>NaN</td>\n",
       "      <td>NaN</td>\n",
       "      <td>NaN</td>\n",
       "      <td>No</td>\n",
       "      <td>NaN</td>\n",
       "    </tr>\n",
       "    <tr>\n",
       "      <th>13434</th>\n",
       "      <td>NaN</td>\n",
       "      <td>21200588</td>\n",
       "      <td>2021-02-06</td>\n",
       "      <td>3/C</td>\n",
       "      <td>JDTL0550DN</td>\n",
       "      <td>22:31:00</td>\n",
       "      <td>23:28:00</td>\n",
       "      <td>22:11:00</td>\n",
       "      <td>167.0</td>\n",
       "      <td>212.3</td>\n",
       "      <td>01:17:31</td>\n",
       "      <td>22:31:46</td>\n",
       "      <td>23:22:14</td>\n",
       "      <td>NaN</td>\n",
       "      <td>NaN</td>\n",
       "      <td>00:20:45</td>\n",
       "      <td>00:50:28</td>\n",
       "      <td>00:00:00</td>\n",
       "      <td>00:02:09</td>\n",
       "      <td>10.4</td>\n",
       "      <td>242.6</td>\n",
       "      <td>10417.8</td>\n",
       "      <td>905.0</td>\n",
       "      <td>NaN</td>\n",
       "      <td>11758.9</td>\n",
       "      <td>CONARC without SCRAP Cojet1-3</td>\n",
       "      <td>Launder</td>\n",
       "      <td>6.7</td>\n",
       "      <td>NaN</td>\n",
       "      <td>NaN</td>\n",
       "      <td>NaN</td>\n",
       "      <td>8</td>\n",
       "      <td>NaN</td>\n",
       "      <td>35.1</td>\n",
       "      <td>NaN</td>\n",
       "      <td>45.6</td>\n",
       "      <td>7.6</td>\n",
       "      <td>NaN</td>\n",
       "      <td>7.6</td>\n",
       "      <td>NaN</td>\n",
       "      <td>NaN</td>\n",
       "      <td>2.0</td>\n",
       "      <td>NaN</td>\n",
       "      <td>41.0</td>\n",
       "      <td>194.2</td>\n",
       "      <td>90.9</td>\n",
       "      <td>0.0</td>\n",
       "      <td>0.0</td>\n",
       "      <td>32.0</td>\n",
       "      <td>68570.4</td>\n",
       "      <td>77.5</td>\n",
       "      <td>00:00:00</td>\n",
       "      <td>00:00:00</td>\n",
       "      <td>00:04:09</td>\n",
       "      <td>31.4</td>\n",
       "      <td>1615.0</td>\n",
       "      <td>0.028</td>\n",
       "      <td>972.0</td>\n",
       "      <td>0</td>\n",
       "      <td>10.5</td>\n",
       "      <td>0.0</td>\n",
       "      <td>2.0</td>\n",
       "      <td>2</td>\n",
       "      <td>4.47</td>\n",
       "      <td>0.44</td>\n",
       "      <td>0.022</td>\n",
       "      <td>0.109</td>\n",
       "      <td>0.004</td>\n",
       "      <td>0.120</td>\n",
       "      <td>0.031</td>\n",
       "      <td>NaN</td>\n",
       "      <td>NaN</td>\n",
       "      <td>NaN</td>\n",
       "      <td>NaN</td>\n",
       "      <td>NaN</td>\n",
       "      <td>NaN</td>\n",
       "      <td>NaN</td>\n",
       "      <td>NaN</td>\n",
       "      <td>NaN</td>\n",
       "      <td>No</td>\n",
       "      <td>NaN</td>\n",
       "    </tr>\n",
       "  </tbody>\n",
       "</table>\n",
       "<p>13435 rows × 81 columns</p>\n",
       "</div>"
      ],
      "text/plain": [
       "          File Name      Heat       Date Shift       Grade     Start  \\\n",
       "0      JUNE_JULY_21  21102439 2021-06-01     C  JDTL0550DN  23:03:00   \n",
       "1      JUNE_JULY_21  21402457 2021-06-01     C  JDHCG04B1N  23:32:00   \n",
       "2      JUNE_JULY_21  21202401 2021-06-01     C  JDHWT41KLZ  23:35:00   \n",
       "3      JUNE_JULY_21  21302425 2021-06-01     C  JDTL0550DN  00:04:00   \n",
       "4      JUNE_JULY_21  21102440 2021-06-01     C  JDHWT41KLZ  00:32:00   \n",
       "...             ...       ...        ...   ...         ...       ...   \n",
       "13430           NaN  21200587 2021-02-05   2/A  JDHWT41ALN  21:08:00   \n",
       "13431           NaN  21200587 2021-02-06   2/A  JDHWT41ALN  21:08:00   \n",
       "13432           NaN  21300594 2021-02-06   2/C  JDTL0550DN  21:56:00   \n",
       "13433           NaN  21400579 2021-02-06   3/B  JDHCG04ACN  22:15:00   \n",
       "13434           NaN  21200588 2021-02-06   3/C  JDTL0550DN  22:31:00   \n",
       "\n",
       "        Tap End Previous Tap End  HotMetal [t]  BathWt [t]  \\\n",
       "0      00:08:00         22:47:00         131.0       233.1   \n",
       "1      00:42:00         23:15:00         131.0       227.1   \n",
       "2      00:36:00         23:18:00         138.0       235.2   \n",
       "3      01:14:00         23:53:00         129.0       210.2   \n",
       "4      01:44:00         00:08:00         130.0       229.2   \n",
       "...         ...              ...           ...         ...   \n",
       "13430  22:11:00         20:58:00         165.0       212.5   \n",
       "13431  22:11:00         20:58:00         165.0       212.5   \n",
       "13432  23:14:00         21:37:00         140.0       244.2   \n",
       "13433  23:55:00         21:59:00         170.0       240.3   \n",
       "13434  23:28:00         22:11:00         167.0       212.3   \n",
       "\n",
       "      Total Cyle Duration  1st Blow Start [datetime] Last Blow End [datetime]  \\\n",
       "0                 01:20:56                  23:03:49                 23:33:52   \n",
       "1                 01:27:07                  23:32:20                 23:59:34   \n",
       "2                 01:17:42                  23:35:04                 00:05:35   \n",
       "3                 01:21:44                  00:04:47                 00:32:33   \n",
       "4                 01:36:41                  00:32:46                 01:03:17   \n",
       "...                    ...                       ...                      ...   \n",
       "13430             01:12:47                  21:08:42                 22:06:14   \n",
       "13431             01:12:47                  21:08:42                 22:06:14   \n",
       "13432             01:36:37                  21:56:03                 22:29:34   \n",
       "13433             01:56:09                  22:15:25                 22:55:33   \n",
       "13434             01:17:31                  22:31:46                 23:22:14   \n",
       "\n",
       "      1st Arc Start [datetime] Last Arc End [datetime]   SetDur   BlowDur   \\\n",
       "0                     23:37:23                00:02:00  00:16:30  00:30:03   \n",
       "1                     00:03:02                00:30:31  00:17:09  00:27:14   \n",
       "2                     00:08:25                00:30:46  00:16:38  00:30:31   \n",
       "3                     00:43:30                01:08:15  00:11:36  00:27:45   \n",
       "4                     01:12:23                01:37:14  00:24:31  00:30:31   \n",
       "...                        ...                     ...       ...       ...   \n",
       "13430                      NaN                     NaN  00:10:28  00:57:31   \n",
       "13431                      NaN                     NaN  00:10:28  00:57:31   \n",
       "13432                 22:35:02                23:08:37  00:18:14  00:33:31   \n",
       "13433                 23:13:19                23:47:44  00:16:17  00:40:07   \n",
       "13434                      NaN                     NaN  00:20:45  00:50:28   \n",
       "\n",
       "        ArcDur    TapDur   Toplance Height [Mtr]  ToplanceFlowRate [Nm3/h]  \\\n",
       "0      00:24:37  00:02:14                   10.4                     231.6   \n",
       "1      00:27:29  00:02:11                   10.4                     238.7   \n",
       "2      00:22:21  00:02:40                   10.3                     244.0   \n",
       "3      00:24:45  00:02:24                   10.6                     222.2   \n",
       "4      00:24:51  00:04:03                   10.4                     234.3   \n",
       "...         ...       ...                    ...                       ...   \n",
       "13430  00:00:00  00:00:49                   10.5                     241.9   \n",
       "13431  00:00:00  00:00:49                   10.5                     241.9   \n",
       "13432  00:33:35  00:02:53                   10.5                     213.4   \n",
       "13433  00:34:25  00:03:17                   10.6                     230.6   \n",
       "13434  00:00:00  00:02:09                   10.4                     242.6   \n",
       "\n",
       "       O2Toplance [Nm3]  O2SideLance-B [Nm3]  O2SideLance-A [Nm3]  \\\n",
       "0                6880.4                840.8               3391.5   \n",
       "1                6293.2                683.9               3113.0   \n",
       "2                7256.8                700.4               3188.8   \n",
       "3                5849.0                753.8               2832.8   \n",
       "4                6906.5                825.2               4201.7   \n",
       "...                 ...                  ...                  ...   \n",
       "13430           10040.2               1148.8                  NaN   \n",
       "13431           10040.2               1148.8                  NaN   \n",
       "13432            7142.6                545.3               2793.0   \n",
       "13433            8776.9               1343.6               1827.7   \n",
       "13434           10417.8                905.0                  NaN   \n",
       "\n",
       "       Tot O2 [Nm3]                       Profile  Launder   Hot Heel [t]  \\\n",
       "0           11908.7  CONARC without SCRAP Cojet1-3      Top          43.0   \n",
       "1           10934.1  CONARC without SCRAP Cojet1-3  Launder          30.0   \n",
       "2           11757.8              CONARC with SCRAP      Top          40.4   \n",
       "3           10196.2  CONARC without SCRAP Cojet1-3  Launder           9.0   \n",
       "4           12958.5   CONARC 100% DRI Single Shell      Top          51.4   \n",
       "...             ...                            ...      ...           ...   \n",
       "13430       11591.0                  100% HOTMETAL  Launder           6.6   \n",
       "13431       11591.0                  100% HOTMETAL  Launder           6.6   \n",
       "13432       11201.3           CONARC without SCRAP      Top          33.0   \n",
       "13433       12691.5           CONARC without SCRAP  Launder          70.0   \n",
       "13434       11758.9  CONARC without SCRAP Cojet1-3  Launder           6.7   \n",
       "\n",
       "       Scrap [t]  Harsco [t]  Refurnace [t]  TorpedoNo1 [Num]  \\\n",
       "0           15.0        15.0            NaN                 8   \n",
       "1            NaN         NaN            NaN                 7   \n",
       "2           17.0        13.0            NaN                 7   \n",
       "3            NaN         NaN            NaN                 2   \n",
       "4           17.0        13.0            NaN                 9   \n",
       "...          ...         ...            ...               ...   \n",
       "13430        NaN         NaN            NaN                 8   \n",
       "13431        NaN         NaN            NaN                 8   \n",
       "13432        NaN         NaN            NaN                 7   \n",
       "13433        NaN         NaN            NaN                 3   \n",
       "13434        NaN         NaN            NaN                 8   \n",
       "\n",
       "       TorpedoNo2 [Num]  DRI-Blow [t]  DRI-Arc [t]  DRI [t]  LIME-BLOWI [t]  \\\n",
       "0                   NaN           8.6         63.9     72.5             8.5   \n",
       "1                   NaN          29.2         66.6     95.8             5.0   \n",
       "2                   NaN           1.0         66.2     67.2             2.7   \n",
       "3                   NaN          24.9         56.4     81.3             4.1   \n",
       "4                   NaN           9.0         59.8     68.8            10.8   \n",
       "...                 ...           ...          ...      ...             ...   \n",
       "13430               NaN          41.9          NaN     47.3             8.0   \n",
       "13431               NaN          41.9          NaN     47.3             8.0   \n",
       "13432               NaN          24.0         77.4    104.2             6.8   \n",
       "13433               NaN          43.2         25.1     70.7            10.0   \n",
       "13434               NaN          35.1          NaN     45.6             7.6   \n",
       "\n",
       "       LIME-ARC [t]  TOTALLIME [t]  DOLO-BLOW [t]  DOLO-ARC [t]  \\\n",
       "0               NaN           10.0            NaN           8.0   \n",
       "1               3.7            8.7            NaN           5.8   \n",
       "2               7.1            9.8            NaN           4.0   \n",
       "3               4.6            8.7            NaN           6.5   \n",
       "4               1.0           11.8            NaN           5.8   \n",
       "...             ...            ...            ...           ...   \n",
       "13430           NaN           10.0            NaN           NaN   \n",
       "13431           NaN           10.0            NaN           NaN   \n",
       "13432           1.8            9.7            NaN           8.7   \n",
       "13433           NaN           10.0            NaN           2.5   \n",
       "13434           NaN            7.6            NaN           NaN   \n",
       "\n",
       "       TOTALDOLO [t]  Coke Nut [Kg]  Coke F [Kg]  Steel [t]  Yield [%]  \\\n",
       "0                8.0          670.0         92.1      177.3       75.3   \n",
       "1                9.0          180.0       1502.0      194.6       85.5   \n",
       "2                6.0          140.0        397.1      182.4       76.7   \n",
       "3                9.8          110.0        232.0      191.4       90.9   \n",
       "4                7.8            NaN        309.4      180.7       78.0   \n",
       "...              ...            ...          ...        ...        ...   \n",
       "13430            1.0          120.0        233.0      196.1       91.7   \n",
       "13431            1.0          120.0        233.0      196.1       91.7   \n",
       "13432           10.8            NaN        427.0      210.2       86.0   \n",
       "13433            5.5           30.0        834.0      190.0       79.0   \n",
       "13434            2.0            NaN         41.0      194.2       90.9   \n",
       "\n",
       "       Tot. El. Energy [kWh]  Energy [kWh/t]  O2AftCelox [Nm3]  O2/HM [Nm3/t]  \\\n",
       "0                    41991.7           236.9               0.0           86.7   \n",
       "1                    40700.0           209.1               0.0           78.5   \n",
       "2                    35563.7           194.9             112.0           81.9   \n",
       "3                    36600.0           191.2               0.0           74.2   \n",
       "4                    42032.0           232.5               0.0           94.1   \n",
       "...                      ...             ...               ...            ...   \n",
       "13430                    0.0             0.0               0.0        68093.0   \n",
       "13431                    0.0             0.0               0.0        68093.0   \n",
       "13432                48600.0           231.2               0.0        75834.8   \n",
       "13433                23300.0           122.6             124.7        70960.1   \n",
       "13434                    0.0             0.0              32.0        68570.4   \n",
       "\n",
       "       Power-Off [min] BlowToArc [min] ArcToTap [min] BlowToTap [min]  \\\n",
       "0                 56.3        00:03:31       00:04:01        00:00:00   \n",
       "1                 59.6        00:03:28       00:09:36        00:00:00   \n",
       "2                 56.1        00:02:50       00:02:42        00:00:00   \n",
       "3                 57.0        00:10:57       00:04:16        00:00:00   \n",
       "4                 72.4        00:09:06       00:03:39        00:00:00   \n",
       "...                ...             ...            ...             ...   \n",
       "13430             72.8        00:00:00       00:00:00        00:03:58   \n",
       "13431             72.8        00:00:00       00:00:00        00:03:58   \n",
       "13432             63.6        00:05:28       00:02:56        00:00:00   \n",
       "13433             97.4        00:17:46       00:04:16        00:00:00   \n",
       "13434             77.5        00:00:00       00:00:00        00:04:09   \n",
       "\n",
       "       Delay [min]  Temp [Â°C]  C [%]  O [ppm]  O2DECARB [NmÂ³]  DRI Setup  \\\n",
       "0              7.7      1656.0  0.030    928.0             3392        0.0   \n",
       "1             16.8      1620.0  0.030    896.0             3113        0.0   \n",
       "2              3.4      1603.0  0.024   1121.0             3189        0.0   \n",
       "3             12.4      1602.0  0.027    964.0             2833        0.0   \n",
       "4             54.4      1658.0  0.022   1306.0             4202        0.0   \n",
       "...            ...         ...    ...      ...              ...        ...   \n",
       "13430         15.0      1622.0  0.023   1158.0                0        5.4   \n",
       "13431         15.0      1622.0  0.023   1158.0                0        5.4   \n",
       "13432         21.3      1638.0  0.026   1040.0             2793        2.8   \n",
       "13433         43.1      1625.0  0.020    946.0             1828        2.4   \n",
       "13434         31.4      1615.0  0.028    972.0                0       10.5   \n",
       "\n",
       "       Lime Setup  Dololime Setup  Shell  HM_C  HM_SI   HM_S   HM_P   HM_N  \\\n",
       "0             1.5             0.0      1  4.58   0.60  0.029  0.128  0.004   \n",
       "1             0.0             3.2      4  4.56   0.55  0.032  0.122  0.004   \n",
       "2             0.0             2.0      2  4.56   0.55  0.032  0.122  0.004   \n",
       "3             0.0             3.3      3  4.51   0.34  0.031  0.126  0.004   \n",
       "4             0.0             2.0      1  4.63   0.75  0.014  0.135  0.004   \n",
       "...           ...             ...    ...   ...    ...    ...    ...    ...   \n",
       "13430         2.0             1.0      2  4.47   0.44  0.022  0.109  0.004   \n",
       "13431         2.0             1.0      2  4.47   0.44  0.022  0.109  0.004   \n",
       "13432         1.1             2.1      3  4.52   0.37  0.023  0.118  0.004   \n",
       "13433         0.0             3.0      4  4.53   0.44  0.020  0.112  0.004   \n",
       "13434         0.0             2.0      2  4.47   0.44  0.022  0.109  0.004   \n",
       "\n",
       "       HM_MN   LM_P  Slag\\n%CaO  Slag\\n%MgO  Slag\\n%SiO2  Slag\\n%AI2O3  \\\n",
       "0      0.709  0.013         NaN         NaN          NaN           NaN   \n",
       "1      0.699  0.008         NaN         NaN          NaN           NaN   \n",
       "2      0.699  0.015         NaN         NaN          NaN           NaN   \n",
       "3      0.697  0.021         NaN         NaN          NaN           NaN   \n",
       "4      0.889  0.010         NaN         NaN          NaN           NaN   \n",
       "...      ...    ...         ...         ...          ...           ...   \n",
       "13430  0.120  0.016         NaN         NaN          NaN           NaN   \n",
       "13431  0.120  0.016         NaN         NaN          NaN           NaN   \n",
       "13432  0.107  0.017         NaN         NaN          NaN           NaN   \n",
       "13433  0.117  0.012         NaN         NaN          NaN           NaN   \n",
       "13434  0.120  0.031         NaN         NaN          NaN           NaN   \n",
       "\n",
       "       Slag %TIO2  Slag %TFE  Slag %MnO  Slag %P2O5  Slag %S  \\\n",
       "0             NaN        NaN        NaN         NaN      NaN   \n",
       "1             NaN        NaN        NaN         NaN      NaN   \n",
       "2             NaN        NaN        NaN         NaN      NaN   \n",
       "3             NaN        NaN        NaN         NaN      NaN   \n",
       "4             NaN        NaN        NaN         NaN      NaN   \n",
       "...           ...        ...        ...         ...      ...   \n",
       "13430         NaN        NaN        NaN         NaN      NaN   \n",
       "13431         NaN        NaN        NaN         NaN      NaN   \n",
       "13432         NaN        NaN        NaN         NaN      NaN   \n",
       "13433         NaN        NaN        NaN         NaN      NaN   \n",
       "13434         NaN        NaN        NaN         NaN      NaN   \n",
       "\n",
       "      Slag Chemistry (Y/N)  Basicity  \n",
       "0                       No       NaN  \n",
       "1                       No       NaN  \n",
       "2                       No       NaN  \n",
       "3                       No       NaN  \n",
       "4                       No       NaN  \n",
       "...                    ...       ...  \n",
       "13430                   No       NaN  \n",
       "13431                   No       NaN  \n",
       "13432                   No       NaN  \n",
       "13433                   No       NaN  \n",
       "13434                   No       NaN  \n",
       "\n",
       "[13435 rows x 81 columns]"
      ]
     },
     "execution_count": 144,
     "metadata": {},
     "output_type": "execute_result"
    }
   ],
   "source": [
    "model_dev"
   ]
  },
  {
   "cell_type": "code",
   "execution_count": 145,
   "metadata": {
    "ExecuteTime": {
     "end_time": "2021-10-20T11:43:30.099663Z",
     "start_time": "2021-10-20T11:43:28.926929Z"
    }
   },
   "outputs": [],
   "source": [
    "# hotfix for hm chems\n",
    "hm_chems = pd.read_excel(\"heat_wise_hm_chem_wa.xlsx\")"
   ]
  },
  {
   "cell_type": "code",
   "execution_count": 146,
   "metadata": {
    "ExecuteTime": {
     "end_time": "2021-10-20T11:43:32.937893Z",
     "start_time": "2021-10-20T11:43:32.852059Z"
    }
   },
   "outputs": [],
   "source": [
    "# merging with model_dev\n",
    "model_dev = model_dev.merge(hm_chems, left_on = 'Heat', right_on = 'HEAT_NAME', how = 'left')"
   ]
  },
  {
   "cell_type": "code",
   "execution_count": 147,
   "metadata": {
    "ExecuteTime": {
     "end_time": "2021-10-20T11:43:51.544183Z",
     "start_time": "2021-10-20T11:43:51.535871Z"
    }
   },
   "outputs": [],
   "source": [
    "# renaming the columns\n",
    "for each in ['C','SI','S','P','N','MN']:\n",
    "    model_dev['HM_' + each] = model_dev['COMP_' + each]"
   ]
  },
  {
   "cell_type": "markdown",
   "metadata": {},
   "source": [
    "### Initial Analysis"
   ]
  },
  {
   "cell_type": "code",
   "execution_count": 148,
   "metadata": {
    "ExecuteTime": {
     "end_time": "2021-10-20T11:43:54.672250Z",
     "start_time": "2021-10-20T11:43:54.666216Z"
    }
   },
   "outputs": [],
   "source": [
    "# cols required\n",
    "# initial analysis\n",
    "\n",
    "cols = [\n",
    "        'Heat',\n",
    "        'DRI Setup',\n",
    "        'Lime Setup',\n",
    "        'Dololime Setup',\n",
    "        'HotMetal [t]',\n",
    "        'BathWt [t]',\n",
    "        #'Total Cyle Duration ',\n",
    "        'BlowDur ',\n",
    "        'ArcDur ',\n",
    "        'Toplance Height [Mtr]',\n",
    "        'ToplanceFlowRate [Nm3/h]',\n",
    "        'O2Toplance [Nm3]',\n",
    "        'Profile ',\n",
    "        'Scrap [t]',\n",
    "        'Harsco [t]',\n",
    "        'DRI-Blow [t]',\n",
    "        'DRI-Arc [t]',\n",
    "        'LIME-BLOWI [t]',\n",
    "        'LIME-ARC [t]',\n",
    "        'DOLO-BLOW [t]',\n",
    "        'DOLO-ARC [t]',\n",
    "        'Coke Nut [Kg]',\n",
    "        'Coke F [Kg]',\n",
    "        'Tot. El. Energy [kWh]',\n",
    "        'Temp [Â°C]',\n",
    "        'O2DECARB [NmÂ³]',\n",
    "        'HM_C',\n",
    "        'HM_SI',\n",
    "        'HM_S',\n",
    "        'HM_P',\n",
    "        'HM_MN',\n",
    "        'LM_P'\n",
    "       ]\n",
    "\n",
    "# to predict\n",
    "# target = 'LM_P'"
   ]
  },
  {
   "cell_type": "code",
   "execution_count": 149,
   "metadata": {
    "ExecuteTime": {
     "end_time": "2021-10-20T11:43:55.426662Z",
     "start_time": "2021-10-20T11:43:55.397724Z"
    }
   },
   "outputs": [],
   "source": [
    "# splitting to have only CONARC\n",
    "# 100% Blowing model will be done separately\n",
    "model_dev = model_dev[cols]"
   ]
  },
  {
   "cell_type": "code",
   "execution_count": 150,
   "metadata": {
    "ExecuteTime": {
     "end_time": "2021-10-20T11:43:56.331513Z",
     "start_time": "2021-10-20T11:43:56.328511Z"
    }
   },
   "outputs": [],
   "source": [
    "# cleaning up column names for ease of processing\n",
    "model_dev.columns = [x.split('[')[0].strip() for x in model_dev.columns]"
   ]
  },
  {
   "cell_type": "code",
   "execution_count": 151,
   "metadata": {
    "ExecuteTime": {
     "end_time": "2021-10-20T11:43:59.307846Z",
     "start_time": "2021-10-20T11:43:59.268243Z"
    }
   },
   "outputs": [
    {
     "data": {
      "text/plain": [
       "Heat                 0.000000\n",
       "DRI Setup            0.000000\n",
       "Lime Setup           0.000000\n",
       "Dololime Setup       0.000000\n",
       "HotMetal             0.000000\n",
       "BathWt               0.000000\n",
       "BlowDur              0.000000\n",
       "ArcDur               0.000000\n",
       "Toplance Height      0.000000\n",
       "ToplanceFlowRate     0.000000\n",
       "O2Toplance           0.000000\n",
       "Profile              0.000000\n",
       "Scrap               81.116487\n",
       "Harsco              85.530331\n",
       "DRI-Blow             0.826200\n",
       "DRI-Arc              8.567175\n",
       "LIME-BLOWI           0.498697\n",
       "LIME-ARC            12.340901\n",
       "DOLO-BLOW           90.368441\n",
       "DOLO-ARC            11.641236\n",
       "Coke Nut            52.646074\n",
       "Coke F               1.027168\n",
       "Tot. El. Energy      0.000000\n",
       "Temp                 0.498697\n",
       "O2DECARB             0.000000\n",
       "HM_C                 0.000000\n",
       "HM_SI                0.000000\n",
       "HM_S                 0.000000\n",
       "HM_P                 0.000000\n",
       "HM_MN                0.000000\n",
       "LM_P                 0.000000\n",
       "dtype: float64"
      ]
     },
     "execution_count": 151,
     "metadata": {},
     "output_type": "execute_result"
    }
   ],
   "source": [
    "# checking percentage of nulls in shortlisted cols\n",
    "model_dev.isna().sum()*100/len(model_dev)"
   ]
  },
  {
   "cell_type": "code",
   "execution_count": 152,
   "metadata": {
    "ExecuteTime": {
     "end_time": "2021-10-20T11:43:59.945114Z",
     "start_time": "2021-10-20T11:43:59.937551Z"
    }
   },
   "outputs": [],
   "source": [
    "# creating ads\n",
    "ads = model_dev.copy()"
   ]
  },
  {
   "cell_type": "markdown",
   "metadata": {},
   "source": [
    "### Preprocessing and Null Value Treatment"
   ]
  },
  {
   "cell_type": "markdown",
   "metadata": {},
   "source": [
    "#### Preprocessing Functions"
   ]
  },
  {
   "cell_type": "code",
   "execution_count": 153,
   "metadata": {
    "ExecuteTime": {
     "end_time": "2021-10-20T11:44:02.634918Z",
     "start_time": "2021-10-20T11:44:02.628956Z"
    }
   },
   "outputs": [],
   "source": [
    "def calculating_time_in_minutes(row):\n",
    "    \"\"\"\n",
    "    \n",
    "    This function will convert the date time column to minutes\n",
    "    \"\"\"\n",
    "    try:\n",
    "        row['BlowDur_Minutes'] = row['BlowDur'].hour * 60 + row['BlowDur'].minute + row['BlowDur'].second / 60\n",
    "    except:\n",
    "        row['BlowDur_Minutes'] = 0\n",
    "        \n",
    "    try:\n",
    "        row['ArcDur_Minutes'] = row['ArcDur'].hour * 60 + row['ArcDur'].minute + row['ArcDur'].second / 60\n",
    "    except:\n",
    "        row['ArcDur_Minutes'] = 0\n",
    "    \n",
    "#     try:\n",
    "#         row['TotalDur_Minutes'] = row['Total Cyle Duration'].hour * 60 + row['Total Cyle Duration'].minute + row['Total Cyle Duration'].second / 60\n",
    "#     except:\n",
    "#         row['TotalDur_Minutes'] = 0\n",
    "\n",
    "    return row"
   ]
  },
  {
   "cell_type": "code",
   "execution_count": 154,
   "metadata": {
    "ExecuteTime": {
     "end_time": "2021-10-20T11:44:03.947707Z",
     "start_time": "2021-10-20T11:44:03.942711Z"
    }
   },
   "outputs": [],
   "source": [
    "def univariate(df):\n",
    "    \"\"\"\n",
    "     \n",
    "    Intended to provide a percentile distribution for numeric columns and \n",
    "    frenquency counts for categorical variables\n",
    "    returns : data frame with univariates for each column\n",
    "    \"\"\"\n",
    "    numerics = ['int16', 'int32', 'int64', 'float16', 'float32', 'float64','object']\n",
    "    quantiles = [0,0.001,0.01,0.05,0.1,0.2,0.25,0.3,0.4,0.5,0.6,0.7,0.75,0.8,0.9,0.95,0.99,0.999,1]\n",
    "    \n",
    "    df_num = pd.DataFrame(df.select_dtypes(include=numerics).quantile(quantiles).transpose())\n",
    "    num_cols = df_num.index.tolist()\n",
    "    char_cols = [cols for cols in df.columns if cols not in num_cols]\n",
    "    \n",
    "    \"\"\"\n",
    "    df_char = df[char_cols]\n",
    "    df_cat_agg = pd.DataFrame()\n",
    "    \n",
    "    # Frequency counts for char columns \n",
    "    if len(char_cols) > 0:\n",
    "        count = 0\n",
    "        for col in char_cols:\n",
    "            df_ = df_char.groupby(col).agg(['count'])\n",
    "            df_['column_name'] = col\n",
    "            df_cat_agg = df_cat_agg.append(df_)      \n",
    "    \n",
    "    #return df_num,df_cat_agg\n",
    "    \"\"\"\n",
    "    \n",
    "    return df_num"
   ]
  },
  {
   "cell_type": "code",
   "execution_count": 155,
   "metadata": {
    "ExecuteTime": {
     "end_time": "2021-10-20T11:44:04.727408Z",
     "start_time": "2021-10-20T11:44:04.719409Z"
    }
   },
   "outputs": [],
   "source": [
    "def outlier_treatment(df,col_list,lv_imp,uv_imp):\n",
    "    \"\"\"\n",
    "    \n",
    "    Intended to treat outlier values based on defined thresholds lv and uv\n",
    "    returns : dataframe with values treated for outliers\n",
    "    \"\"\"\n",
    "    for col,lv,uv in zip(col_list,lv_imp,uv_imp):\n",
    "        df[col+'_treated'] = [uv if x>uv else x for x in df[col]]\n",
    "        df[col+'_treated'] = [lv if x<lv else x for x in df[col+'_treated']]\n",
    "    \n",
    "    return df"
   ]
  },
  {
   "cell_type": "code",
   "execution_count": 156,
   "metadata": {
    "ExecuteTime": {
     "end_time": "2021-10-20T11:44:05.672906Z",
     "start_time": "2021-10-20T11:44:05.665910Z"
    }
   },
   "outputs": [],
   "source": [
    "def impute_missing(df,cols=[],simple_impute=True,impute_value=0):\n",
    "    \"\"\"\n",
    "    \n",
    "    Intended to impute missing values for the specified columns by the specified value\n",
    "    returns : dataframe with imputed values\n",
    "    \"\"\"\n",
    "    if simple_impute == 1:\n",
    "            if len(cols)>0:\n",
    "                df[cols] = df[cols].fillna(value=impute_value)\n",
    "            else:\n",
    "                df.fillna(impute_value,inplace=True)\n",
    "    else:\n",
    "        df.fillna(df[cols].median(),inplace=True)\n",
    "        print(\"Column and Median to be replace : \",cols, df[cols].median())\n",
    "    \n",
    "    return df"
   ]
  },
  {
   "cell_type": "code",
   "execution_count": 157,
   "metadata": {
    "ExecuteTime": {
     "end_time": "2021-10-20T11:44:06.107678Z",
     "start_time": "2021-10-20T11:44:06.102678Z"
    }
   },
   "outputs": [],
   "source": [
    "def missing_value_perc(df):\n",
    "    \"\"\"\n",
    "    \n",
    "    Intended to get a summary of missing values for each column in a df\n",
    "    returns: summarized column wise missing value percentage\n",
    "    \"\"\"\n",
    "    # Summarise null values in a df\n",
    "    df_ = pd.DataFrame({'missing_count':df.isnull().sum() , 'total_count': len(df)})    \n",
    "    # Get the % Missing for each column\n",
    "    df_['missing_perc'] = df_['missing_count']/df_['total_count']\n",
    "    \n",
    "    return df_ "
   ]
  },
  {
   "cell_type": "code",
   "execution_count": 158,
   "metadata": {
    "ExecuteTime": {
     "end_time": "2021-10-18T06:15:38.766144Z",
     "start_time": "2021-10-18T06:15:38.759146Z"
    }
   },
   "outputs": [],
   "source": [
    "def outlier_detect_iqr(df, col):\n",
    "    \"\"\"\n",
    "    Calculate Q1, Q3, IQR\n",
    "    Returns capped value\n",
    "    \n",
    "    Logic:\n",
    "    if x < q1 - 1.5iqr -> q1 - 1.5iqr\n",
    "    if x > q3 + 1.5iqr -> q3 + 1.5iqr\n",
    "    \"\"\"\n",
    "    \n",
    "    q1 = df[col].quantile(0.25)\n",
    "    q3 = df[col].quantile(0.75)\n",
    "    iqr = q3 - q1\n",
    "    \n",
    "    df[col + '_treated'] = df[col].apply(lambda x: q1 - 1.5*iqr if x < (q1 - 1.5*iqr) else q3 + 1.5*iqr if x > (q3 + 1.5*iqr) else x)"
   ]
  },
  {
   "cell_type": "code",
   "execution_count": 159,
   "metadata": {
    "ExecuteTime": {
     "end_time": "2021-10-18T06:15:39.340141Z",
     "start_time": "2021-10-18T06:15:39.336145Z"
    }
   },
   "outputs": [],
   "source": [
    "def filter_outliers(df, col, uv, lv):\n",
    "    \"\"\"\n",
    "    :param col: column of ads\n",
    "    :param uv: upper limit\n",
    "    :param lv: lower limit\n",
    "    \n",
    "    filter out all rows not falling within uv and lv for col\n",
    "    \"\"\"\n",
    "    \n",
    "    df = df[(df[col] >= lv) & (df[col] <= uv)]\n",
    "    \n",
    "    return df"
   ]
  },
  {
   "cell_type": "markdown",
   "metadata": {
    "ExecuteTime": {
     "end_time": "2021-08-24T12:44:30.462566Z",
     "start_time": "2021-08-24T12:44:30.456570Z"
    }
   },
   "source": [
    "#### Null Value Imputation"
   ]
  },
  {
   "cell_type": "code",
   "execution_count": 160,
   "metadata": {
    "ExecuteTime": {
     "end_time": "2021-10-18T06:15:40.787604Z",
     "start_time": "2021-10-18T06:15:40.776645Z"
    }
   },
   "outputs": [],
   "source": [
    "# cols to fill with 0\n",
    "cols = [\n",
    "    'Scrap',\n",
    "    'Harsco',\n",
    "    'DOLO-BLOW',\n",
    "    'Coke Nut',\n",
    "    'Coke F',\n",
    "    'DRI-Arc',\n",
    "    'LIME-ARC',\n",
    "    'DOLO-ARC']\n",
    "\n",
    "ads[cols] = ads[cols].fillna(0)"
   ]
  },
  {
   "cell_type": "code",
   "execution_count": 161,
   "metadata": {
    "ExecuteTime": {
     "end_time": "2021-10-18T06:15:57.000375Z",
     "start_time": "2021-10-18T06:15:41.541163Z"
    }
   },
   "outputs": [],
   "source": [
    "# converting\n",
    "ads = ads.apply(calculating_time_in_minutes, axis = 1)\n",
    "\n",
    "# deleting the original dur rows\n",
    "#del ads['Total Cyle Duration']\n",
    "del ads['BlowDur']\n",
    "del ads['ArcDur']"
   ]
  },
  {
   "cell_type": "code",
   "execution_count": 162,
   "metadata": {
    "ExecuteTime": {
     "end_time": "2021-10-18T06:15:57.144193Z",
     "start_time": "2021-10-18T06:15:57.103158Z"
    }
   },
   "outputs": [],
   "source": [
    "# filtering out cases where Profile is null\n",
    "ads = ads[ads['Profile'].isna() == False]\n",
    "\n",
    "# removing all the profiles which were 'arc-cojet'\n",
    "ads = ads[ads['Profile'].str.contains('arc-cojet', case = False) == False]\n",
    "\n",
    "#creating arc flag\n",
    "#all conarc/arcing profiles have the word 'arc' in them\n",
    "#the remaining are 100% blowing\n",
    "ads['Arcing Flag'] = ads['Profile'].apply(lambda x: 1 if 'arc' in x.lower() else 0)\n",
    "\n",
    "# removing profile and keeping only profile type\n",
    "del ads['Profile']"
   ]
  },
  {
   "cell_type": "code",
   "execution_count": 163,
   "metadata": {
    "ExecuteTime": {
     "end_time": "2021-10-18T06:15:57.283159Z",
     "start_time": "2021-10-18T06:15:57.271158Z"
    }
   },
   "outputs": [],
   "source": [
    "# dropping rows where target variable is null\n",
    "ads.dropna(subset = ['LM_P'], inplace = True)"
   ]
  },
  {
   "cell_type": "code",
   "execution_count": 164,
   "metadata": {
    "ExecuteTime": {
     "end_time": "2021-10-18T06:15:57.415156Z",
     "start_time": "2021-10-18T06:15:57.403159Z"
    }
   },
   "outputs": [],
   "source": [
    "# getting list of cols which have nulls in them\n",
    "null_cols = [x for x in ads.columns if ads[x].isnull().sum() > 0]"
   ]
  },
  {
   "cell_type": "code",
   "execution_count": 165,
   "metadata": {
    "ExecuteTime": {
     "end_time": "2021-10-18T06:15:57.513158Z",
     "start_time": "2021-10-18T06:15:57.502158Z"
    }
   },
   "outputs": [],
   "source": [
    "# dropping rows where the following cols have nulls\n",
    "drop_nulls = ['HotMetal',\n",
    " 'O2Toplance',\n",
    " 'Temp',\n",
    " 'HM_C',\n",
    " 'HM_SI',\n",
    " 'HM_S',\n",
    " 'HM_P',\n",
    " 'HM_MN',\n",
    "'DRI-Blow',\n",
    "'LIME-BLOWI']\n",
    "\n",
    "ads.dropna(subset = drop_nulls, inplace = True)"
   ]
  },
  {
   "cell_type": "code",
   "execution_count": 166,
   "metadata": {
    "ExecuteTime": {
     "end_time": "2021-10-18T06:15:57.611163Z",
     "start_time": "2021-10-18T06:15:57.607160Z"
    }
   },
   "outputs": [],
   "source": [
    "# # removing arcing flag for now\n",
    "# del ads['Arcing Flag']"
   ]
  },
  {
   "cell_type": "code",
   "execution_count": 167,
   "metadata": {
    "ExecuteTime": {
     "end_time": "2021-10-18T06:15:57.707159Z",
     "start_time": "2021-10-18T06:15:57.702162Z"
    }
   },
   "outputs": [],
   "source": [
    "# # issues with totaldur\n",
    "# # 1. some of the rows are dt -> doesn't affect calc but check\n",
    "# # 2. one row has val 0.0534722, check for similar cases\n",
    "\n",
    "# test[test['TotalDur_Minutes'] < 120][['TotalDur_Minutes','Total Cyle Duration']].head(100)"
   ]
  },
  {
   "cell_type": "code",
   "execution_count": 168,
   "metadata": {
    "ExecuteTime": {
     "end_time": "2021-10-18T06:15:57.800159Z",
     "start_time": "2021-10-18T06:15:57.794158Z"
    }
   },
   "outputs": [],
   "source": [
    "# removing features we dont need\n",
    "\n",
    "# removing toplance_height as it has erroneous values\n",
    "del ads['Toplance Height']"
   ]
  },
  {
   "cell_type": "code",
   "execution_count": 169,
   "metadata": {
    "ExecuteTime": {
     "end_time": "2021-10-18T06:15:57.900162Z",
     "start_time": "2021-10-18T06:15:57.893161Z"
    }
   },
   "outputs": [],
   "source": [
    "# fixing incorrect values in Arcing flag\n",
    "\n",
    "# Arcing flag val counts\n",
    "# 1    12113\n",
    "# 0     1114\n",
    "\n",
    "ads['Updated Arcing Flag'] = np.where((ads['HotMetal'] > 160) & (ads['ArcDur_Minutes'] < 5), 0,1)\n",
    "\n",
    "# updated arcing flag val counts\n",
    "# 1    12035\n",
    "# 0     1192"
   ]
  },
  {
   "cell_type": "code",
   "execution_count": 170,
   "metadata": {},
   "outputs": [
    {
     "data": {
      "text/plain": [
       "0        1\n",
       "1        1\n",
       "2        1\n",
       "3        1\n",
       "4        1\n",
       "        ..\n",
       "13430    0\n",
       "13431    0\n",
       "13432    1\n",
       "13433    1\n",
       "13434    0\n",
       "Name: Updated Arcing Flag, Length: 13227, dtype: int32"
      ]
     },
     "execution_count": 170,
     "metadata": {},
     "output_type": "execute_result"
    }
   ],
   "source": [
    "ads['Updated Arcing Flag']"
   ]
  },
  {
   "cell_type": "code",
   "execution_count": 171,
   "metadata": {
    "ExecuteTime": {
     "end_time": "2021-10-18T06:15:57.997158Z",
     "start_time": "2021-10-18T06:15:57.989160Z"
    }
   },
   "outputs": [],
   "source": [
    "# setting filter limits for the vars\n",
    "limits = {\n",
    "   \"DRI Setup\":{\n",
    "      \"max\":10,\n",
    "      \"min\":0\n",
    "   },\n",
    "   \"Lime Setup\":{\n",
    "      \"max\":5,\n",
    "      \"min\":0\n",
    "   },\n",
    "   \"Dololime Setup\":{\n",
    "      \"max\":5,\n",
    "      \"min\":0\n",
    "   },\n",
    "   \"O2DECARB\":{\n",
    "      \"max\":6000,\n",
    "      \"min\":50\n",
    "   },\n",
    "   \"HotMetal\":{\n",
    "      \"max\":180,\n",
    "      \"min\":90\n",
    "   },\n",
    "   \"BathWt\":{\n",
    "      \"max\":290,\n",
    "      \"min\":100\n",
    "   },\n",
    "#    \"Toplance Height\":{\n",
    "#       \"max\":12,\n",
    "#       \"min\":0\n",
    "#    },\n",
    "   \"DRI-Blow\":{\n",
    "      \"max\":80,\n",
    "      \"min\":0\n",
    "   },\n",
    "   \"LIME-BLOWI\":{\n",
    "      \"max\":15,\n",
    "      \"min\":1\n",
    "   },\n",
    "   \"LIME-ARC\":{\n",
    "      \"max\":15,\n",
    "      \"min\":0\n",
    "   },\n",
    "   \"DOLO-BLOW\":{\n",
    "      \"max\":10,\n",
    "      \"min\":0\n",
    "   },\n",
    "   \"Coke Nut\":{\n",
    "      \"max\":5000,\n",
    "      \"min\":0\n",
    "   },\n",
    "   \"Coke F\":{\n",
    "      \"max\":5000,\n",
    "      \"min\":0\n",
    "   },\n",
    "   \"BlowDur_Minutes\":{\n",
    "      \"max\":60,\n",
    "      \"min\":5\n",
    "   },\n",
    "   \"ArcDur_Minutes\":{\n",
    "      \"max\":100,\n",
    "      \"min\":0\n",
    "   },\n",
    "    \n",
    "#    \"TotalDur_Minutes\":{\n",
    "#       \"max\":120,\n",
    "#       \"min\":50\n",
    "#    }\n",
    "    \n",
    "#     \"LM_P\":{\n",
    "#       \"max\":0.020,\n",
    "#       \"min\":0\n",
    "#    }\n",
    "}"
   ]
  },
  {
   "cell_type": "code",
   "execution_count": 172,
   "metadata": {
    "ExecuteTime": {
     "end_time": "2021-10-18T06:15:58.296159Z",
     "start_time": "2021-10-18T06:15:58.226161Z"
    }
   },
   "outputs": [
    {
     "name": "stdout",
     "output_type": "stream",
     "text": [
      "ADS Shape after removing DRI Setup: (13204, 31)\n",
      "ADS Shape after removing Lime Setup: (12604, 31)\n",
      "ADS Shape after removing Dololime Setup: (12579, 31)\n",
      "ADS Shape after removing O2DECARB: (11437, 31)\n",
      "ADS Shape after removing HotMetal: (11412, 31)\n",
      "ADS Shape after removing BathWt: (11410, 31)\n",
      "ADS Shape after removing DRI-Blow: (11406, 31)\n",
      "ADS Shape after removing LIME-BLOWI: (11359, 31)\n",
      "ADS Shape after removing LIME-ARC: (11359, 31)\n",
      "ADS Shape after removing DOLO-BLOW: (11359, 31)\n",
      "ADS Shape after removing Coke Nut: (11357, 31)\n",
      "ADS Shape after removing Coke F: (11279, 31)\n",
      "ADS Shape after removing BlowDur_Minutes: (9980, 31)\n",
      "ADS Shape after removing ArcDur_Minutes: (9977, 31)\n"
     ]
    }
   ],
   "source": [
    "# filtering ads based on limits\n",
    "for col, vals in limits.items():\n",
    "    ads = filter_outliers(ads, col, vals[\"max\"], vals[\"min\"])\n",
    "    print(f\"ADS Shape after removing {col}: {ads.shape}\")"
   ]
  },
  {
   "cell_type": "code",
   "execution_count": 173,
   "metadata": {
    "ExecuteTime": {
     "end_time": "2021-10-18T06:15:58.952988Z",
     "start_time": "2021-10-18T06:15:58.947947Z"
    }
   },
   "outputs": [],
   "source": [
    "# standardising ads column names\n",
    "ads.columns = [x.replace(\" \",\"_\").replace(\".\",\"\").replace(\"-\",\"_\").lower() for x in ads.columns]"
   ]
  },
  {
   "cell_type": "code",
   "execution_count": 174,
   "metadata": {
    "ExecuteTime": {
     "end_time": "2021-10-18T06:15:59.718986Z",
     "start_time": "2021-10-18T06:15:59.708983Z"
    }
   },
   "outputs": [],
   "source": [
    "# hm chemistry columns\n",
    "# these are all percentages, and need to be multiplied with hm values to get \n",
    "# the actual hm chemistry\n",
    "hm_chem_cols = ['hm_c', 'hm_si', 'hm_s', 'hm_p', 'hm_mn']\n",
    "for each in hm_chem_cols:\n",
    "    ads[each + \"_tons\"] = ads[each] * ads['hotmetal']/100"
   ]
  },
  {
   "cell_type": "code",
   "execution_count": 175,
   "metadata": {
    "ExecuteTime": {
     "end_time": "2021-10-18T06:16:01.120287Z",
     "start_time": "2021-10-18T06:16:00.452288Z"
    }
   },
   "outputs": [
    {
     "data": {
      "text/plain": [
       "<AxesSubplot:>"
      ]
     },
     "execution_count": 175,
     "metadata": {},
     "output_type": "execute_result"
    },
    {
     "data": {
      "image/png": "[encoded data removed]",
      "text/plain": [
       "<Figure size 1152x864 with 2 Axes>"
      ]
     },
     "metadata": {
      "needs_background": "light"
     },
     "output_type": "display_data"
    }
   ],
   "source": [
    "# checking out feature correlations\n",
    "plt.figure(figsize = (16,12))\n",
    "corr = ads.corr()\n",
    "sns.heatmap(corr, xticklabels = corr.columns, yticklabels = corr.columns)"
   ]
  },
  {
   "cell_type": "code",
   "execution_count": 176,
   "metadata": {
    "ExecuteTime": {
     "end_time": "2021-10-18T06:16:05.832400Z",
     "start_time": "2021-10-18T06:16:01.258287Z"
    }
   },
   "outputs": [],
   "source": [
    "# saving to local\n",
    "ads.to_excel(output_path + 'ads.xlsx')"
   ]
  },
  {
   "cell_type": "markdown",
   "metadata": {
    "ExecuteTime": {
     "end_time": "2021-08-24T14:35:42.433723Z",
     "start_time": "2021-08-24T14:35:42.409555Z"
    }
   },
   "source": [
    "### Training Decision Tree - Iteration 1"
   ]
  },
  {
   "cell_type": "markdown",
   "metadata": {},
   "source": [
    "#### Prerequisite Functions"
   ]
  },
  {
   "cell_type": "code",
   "execution_count": 177,
   "metadata": {
    "ExecuteTime": {
     "end_time": "2021-10-18T06:16:06.009290Z",
     "start_time": "2021-10-18T06:16:06.002290Z"
    }
   },
   "outputs": [],
   "source": [
    "def train_decision_tree(df_features,df_target,n_=200,leaf_=10,split_=25,md_=4, random_state = 97):\n",
    "    \n",
    "    # Initialise dataframe \n",
    "    weights=pd.DataFrame(columns=['Variable','Importance_gain','iteration','rand_index'])\n",
    "    \n",
    "    # Instantiate the model with required parameters\n",
    "    model_=DecisionTreeRegressor(max_depth=md_, random_state=random_state,criterion='mse',min_samples_leaf=leaf_, \n",
    "                                    min_samples_split=split_)    \n",
    "\n",
    "    print(model_)\n",
    "    model_.fit(df_features,df_target)\n",
    "    weights = pd.DataFrame(model_.feature_importances_,\n",
    "                                   index = df_features.columns,\n",
    "                                    columns=['importance']).sort_values('importance',ascending=False)   \n",
    "    return model_,weights"
   ]
  },
  {
   "cell_type": "code",
   "execution_count": 178,
   "metadata": {
    "ExecuteTime": {
     "end_time": "2021-10-18T06:16:06.155288Z",
     "start_time": "2021-10-18T06:16:06.150287Z"
    }
   },
   "outputs": [],
   "source": [
    "def mape(y_pred,y_true,label,key): \n",
    "    mape_calc = pd.DataFrame(data=np.column_stack((y_pred,y_true,key)),columns=['predicted','actual','key'])\n",
    "    mape_calc['mape'] = abs(mape_calc['predicted']-mape_calc['actual'])\n",
    "    mape_calc = mape_calc[mape_calc['actual']>0]\n",
    "    mape_calc.to_csv(output_path +label+'_mape_validate.csv')\n",
    "    \n",
    "    return mape_calc['mape'].mean()"
   ]
  },
  {
   "cell_type": "markdown",
   "metadata": {},
   "source": [
    "#### Creating Train-Test split"
   ]
  },
  {
   "cell_type": "code",
   "execution_count": 179,
   "metadata": {
    "ExecuteTime": {
     "end_time": "2021-10-18T06:16:09.048526Z",
     "start_time": "2021-10-18T06:16:06.289288Z"
    }
   },
   "outputs": [],
   "source": [
    "# separating feature and target columns\n",
    "#features = [x for x in ads.columns if x != 'lm_p']\n",
    "\n",
    "# features_imp = ['hm_p','hm_mn','hm_si','hm_c','temp', 'dolo_arc','dolo_blow','dri_arc','dri_blow']\n",
    "\n",
    "# performance measure = 0.014 -> 0.019 or 0.009\n",
    "# minimal positive error would be best case scenario\n",
    "# 0.020 -> if greater than 0.02, then that is a waste heat\n",
    "\n",
    "# currently no sampling is done, they want to be more sure about phosphorus content, without sampling\n",
    "# at optimized flux quantity, but optimized quantitiy is coming either from excel model/operator experience\n",
    "# predicting expected phosphorus\n",
    "# \n",
    "# x = ['dolo_arc','dolo_blow','lime_arc','lime_blowi', 'dolo_setup','lime_setup']\n",
    "# y = ['lm_p']\n",
    "# support_variables = [list of other vars]\n",
    "\n",
    "# experiment with lime_setup, hm_c, arcing_flag, temp\n",
    "\n",
    "# keeping only features with importance greater than 0\n",
    "features = [\n",
    "    #'dri_setup', \n",
    "    'lime_setup', \n",
    "    'dololime_setup', \n",
    "    'hotmetal', \n",
    "    'bathwt', \n",
    "    #'toplance_height', \n",
    "    'toplanceflowrate', \n",
    "    'o2toplance', \n",
    "    #'scrap', \n",
    "    #'harsco', \n",
    "    'dri_blow', \n",
    "    'dri_arc', \n",
    "    'lime_blowi', \n",
    "    'lime_arc', \n",
    "    'dolo_blow', \n",
    "    'dolo_arc', \n",
    "    #'coke_nut', \n",
    "    'coke_f',\n",
    "    #'tot_el_energy',\n",
    "#     'temp',\n",
    "    'o2decarb',\n",
    "    #'hm_c',\n",
    "    #'hm_si',\n",
    "    #'hm_s',\n",
    "    #'hm_p',\n",
    "    #'hm_mn',\n",
    "    'hm_c_tons',\n",
    "    'hm_si_tons',\n",
    "    'hm_s_tons',\n",
    "    'hm_p_tons',\n",
    "    'hm_mn_tons',\n",
    "    #'updated_arcing_flag'\n",
    "    #'blowdur_minutes',\n",
    "    #'arcdur_minutes'\n",
    "]\n",
    "\n",
    "target = ['lm_p']\n",
    "\n",
    "# creating train_test_df\n",
    "train_test_df = ads[features + target]\n",
    "train_test_df.to_excel(output_path + \"train_test_df.xlsx\")"
   ]
  },
  {
   "cell_type": "code",
   "execution_count": 180,
   "metadata": {
    "ExecuteTime": {
     "end_time": "2021-10-18T06:16:09.292291Z",
     "start_time": "2021-10-18T06:16:09.273289Z"
    }
   },
   "outputs": [],
   "source": [
    "# creating train test splits\n",
    "X_train, X_test, y_train, y_test = train_test_split(train_test_df[features], train_test_df[target], test_size = 0.2, random_state = 43)"
   ]
  },
  {
   "cell_type": "markdown",
   "metadata": {},
   "source": [
    "#### Optimal Hyperparameters"
   ]
  },
  {
   "cell_type": "code",
   "execution_count": 181,
   "metadata": {
    "ExecuteTime": {
     "end_time": "2021-10-18T06:16:09.633290Z",
     "start_time": "2021-10-18T06:16:09.629288Z"
    }
   },
   "outputs": [],
   "source": [
    "# # looking at different depths\n",
    "# param_grid = {'max_depth':[3,4,5],'min_samples_leaf':[10,15,20],'min_samples_split':[20,25,30,35]}\n",
    "# gridsearch = GridSearchCV(DecisionTreeRegressor(), param_grid, cv = 10)\n",
    "# gridsearch.fit(X_train,y_train)\n",
    "# print(gridsearch.best_params_)"
   ]
  },
  {
   "cell_type": "markdown",
   "metadata": {
    "ExecuteTime": {
     "end_time": "2021-08-24T14:40:02.708241Z",
     "start_time": "2021-08-24T14:40:02.696528Z"
    }
   },
   "source": [
    "#### Training Decision Tree"
   ]
  },
  {
   "cell_type": "code",
   "execution_count": 182,
   "metadata": {
    "ExecuteTime": {
     "end_time": "2021-10-18T06:16:09.941288Z",
     "start_time": "2021-10-18T06:16:09.888288Z"
    }
   },
   "outputs": [
    {
     "name": "stdout",
     "output_type": "stream",
     "text": [
      "DecisionTreeRegressor(max_depth=4, min_samples_leaf=15, min_samples_split=20,\n",
      "                      random_state=97)\n"
     ]
    }
   ],
   "source": [
    "dtree, weights = train_decision_tree(X_train, y_train, leaf_ = 15, split_ = 20)"
   ]
  },
  {
   "cell_type": "markdown",
   "metadata": {},
   "source": [
    "#### Performance Measures"
   ]
  },
  {
   "cell_type": "code",
   "execution_count": 183,
   "metadata": {
    "ExecuteTime": {
     "end_time": "2021-10-18T06:16:10.539322Z",
     "start_time": "2021-10-18T06:16:10.529325Z"
    }
   },
   "outputs": [],
   "source": [
    "# Predicting on the train and test data\n",
    "pred_train_rf = dtree.predict(X_train)\n",
    "pred_test_rf = dtree.predict(X_test)"
   ]
  },
  {
   "cell_type": "code",
   "execution_count": 184,
   "metadata": {
    "ExecuteTime": {
     "end_time": "2021-10-18T06:16:11.051693Z",
     "start_time": "2021-10-18T06:16:11.040683Z"
    }
   },
   "outputs": [
    {
     "name": "stdout",
     "output_type": "stream",
     "text": [
      "R2 for Train Dataset :  0.10192897672689892\n",
      "R2 for Test Dataset :  0.07527452782903342\n"
     ]
    }
   ],
   "source": [
    "correlation_matrix = np.corrcoef(pred_train_rf, y_train['lm_p'].to_list())\n",
    "correlation_xy = correlation_matrix[0,1]\n",
    "r_squared = correlation_xy**2\n",
    "print(\"R2 for Train Dataset : \",r_squared)\n",
    "\n",
    "correlation_matrix = np.corrcoef(pred_test_rf, y_test['lm_p'].to_list())\n",
    "correlation_xy = correlation_matrix[0,1]\n",
    "r_squared = correlation_xy**2\n",
    "print(\"R2 for Test Dataset : \",r_squared)"
   ]
  },
  {
   "cell_type": "code",
   "execution_count": 185,
   "metadata": {
    "ExecuteTime": {
     "end_time": "2021-10-18T06:16:11.504748Z",
     "start_time": "2021-10-18T06:16:11.413682Z"
    }
   },
   "outputs": [
    {
     "name": "stdout",
     "output_type": "stream",
     "text": [
      "MAPE for train is 0.0034ppm\n",
      "MAPE for test is 0.0034ppm\n"
     ]
    }
   ],
   "source": [
    "print(\"MAPE for train is {}ppm\".format(round(mape(pred_train_rf,y_train.values,'train',y_train.index),4)))\n",
    "print(\"MAPE for test is {}ppm\".format(round(mape(pred_test_rf,y_test.values,'test',y_test.index),4))) "
   ]
  },
  {
   "cell_type": "code",
   "execution_count": 186,
   "metadata": {
    "ExecuteTime": {
     "end_time": "2021-10-18T06:16:11.851680Z",
     "start_time": "2021-10-18T06:16:11.844683Z"
    }
   },
   "outputs": [
    {
     "data": {
      "text/plain": [
       "0.1019289767268986"
      ]
     },
     "execution_count": 186,
     "metadata": {},
     "output_type": "execute_result"
    }
   ],
   "source": [
    "r2_score(y_train, pred_train_rf)"
   ]
  },
  {
   "cell_type": "code",
   "execution_count": 187,
   "metadata": {
    "ExecuteTime": {
     "end_time": "2021-10-18T06:16:12.322003Z",
     "start_time": "2021-10-18T06:16:12.313999Z"
    }
   },
   "outputs": [
    {
     "data": {
      "text/plain": [
       "0.07316088172881352"
      ]
     },
     "execution_count": 187,
     "metadata": {},
     "output_type": "execute_result"
    }
   ],
   "source": [
    "r2_score(y_test, pred_test_rf)"
   ]
  },
  {
   "cell_type": "code",
   "execution_count": 188,
   "metadata": {
    "ExecuteTime": {
     "end_time": "2021-10-18T06:16:12.938308Z",
     "start_time": "2021-10-18T06:16:12.776001Z"
    }
   },
   "outputs": [],
   "source": [
    "# saving feature importance and correlations to local\n",
    "weights.reset_index().to_excel(f\"{output_path}//weights_{now}.xlsx\")\n",
    "ads.corr().reset_index().to_excel(f\"{output_path}//correlation_{now}.xlsx\")"
   ]
  },
  {
   "cell_type": "code",
   "execution_count": 189,
   "metadata": {
    "ExecuteTime": {
     "end_time": "2021-10-18T06:16:13.296321Z",
     "start_time": "2021-10-18T06:16:13.285321Z"
    }
   },
   "outputs": [
    {
     "data": {
      "text/plain": [
       "['C:\\\\Flux\\\\Codes\\\\p_model_training\\\\Output Files//model_dt_s_2022_06_29_12_46_12.joblib.pkl']"
      ]
     },
     "execution_count": 189,
     "metadata": {},
     "output_type": "execute_result"
    }
   ],
   "source": [
    "# Saving the pickle file\n",
    "filename =f'{output_path}//model_dt_s_{now}.joblib.pkl'\n",
    "joblib.dump(dtree, filename, compress=9)"
   ]
  },
  {
   "cell_type": "code",
   "execution_count": 190,
   "metadata": {
    "ExecuteTime": {
     "end_time": "2021-10-18T06:16:16.412615Z",
     "start_time": "2021-10-18T06:16:13.651320Z"
    }
   },
   "outputs": [],
   "source": [
    "# saving the train and test df\n",
    "train_df = pd.concat([X_train,y_train], axis = 1)\n",
    "test_df = pd.concat([X_test, y_test], axis = 1)\n",
    "\n",
    "train_df.to_excel(output_path + \"train_df.xlsx\")\n",
    "test_df.to_excel(output_path + \"test_df.xlsx\")"
   ]
  },
  {
   "cell_type": "code",
   "execution_count": 191,
   "metadata": {
    "ExecuteTime": {
     "end_time": "2021-10-18T06:16:17.680317Z",
     "start_time": "2021-10-18T06:16:16.651317Z"
    }
   },
   "outputs": [
    {
     "data": {
      "text/plain": [
       "[Text(418.5, 489.24, 'o2decarb <= 2468.5\\nmse = 0.0\\nsamples = 7981\\nvalue = 0.012'),\n",
       " Text(209.25, 380.52000000000004, 'dri_blow <= 12.75\\nmse = 0.0\\nsamples = 2588\\nvalue = 0.013'),\n",
       " Text(104.625, 271.8, 'o2decarb <= 2009.0\\nmse = 0.0\\nsamples = 411\\nvalue = 0.011'),\n",
       " Text(52.3125, 163.08000000000004, 'bathwt <= 232.25\\nmse = 0.0\\nsamples = 181\\nvalue = 0.012'),\n",
       " Text(26.15625, 54.360000000000014, 'mse = 0.0\\nsamples = 160\\nvalue = 0.012'),\n",
       " Text(78.46875, 54.360000000000014, 'mse = 0.0\\nsamples = 21\\nvalue = 0.015'),\n",
       " Text(156.9375, 163.08000000000004, 'dri_arc <= 54.65\\nmse = 0.0\\nsamples = 230\\nvalue = 0.011'),\n",
       " Text(130.78125, 54.360000000000014, 'mse = 0.0\\nsamples = 99\\nvalue = 0.009'),\n",
       " Text(183.09375, 54.360000000000014, 'mse = 0.0\\nsamples = 131\\nvalue = 0.011'),\n",
       " Text(313.875, 271.8, 'coke_f <= 398.5\\nmse = 0.0\\nsamples = 2177\\nvalue = 0.014'),\n",
       " Text(261.5625, 163.08000000000004, 'dololime_setup <= 0.15\\nmse = 0.0\\nsamples = 1163\\nvalue = 0.013'),\n",
       " Text(235.40625, 54.360000000000014, 'mse = 0.0\\nsamples = 139\\nvalue = 0.015'),\n",
       " Text(287.71875, 54.360000000000014, 'mse = 0.0\\nsamples = 1024\\nvalue = 0.013'),\n",
       " Text(366.1875, 163.08000000000004, 'bathwt <= 171.35\\nmse = 0.0\\nsamples = 1014\\nvalue = 0.014'),\n",
       " Text(340.03125, 54.360000000000014, 'mse = 0.0\\nsamples = 22\\nvalue = 0.018'),\n",
       " Text(392.34375, 54.360000000000014, 'mse = 0.0\\nsamples = 992\\nvalue = 0.014'),\n",
       " Text(627.75, 380.52000000000004, 'dri_blow <= 10.55\\nmse = 0.0\\nsamples = 5393\\nvalue = 0.011'),\n",
       " Text(523.125, 271.8, 'lime_arc <= 4.85\\nmse = 0.0\\nsamples = 857\\nvalue = 0.009'),\n",
       " Text(470.8125, 163.08000000000004, 'dri_arc <= 75.6\\nmse = 0.0\\nsamples = 600\\nvalue = 0.01'),\n",
       " Text(444.65625, 54.360000000000014, 'mse = 0.0\\nsamples = 548\\nvalue = 0.009'),\n",
       " Text(496.96875, 54.360000000000014, 'mse = 0.0\\nsamples = 52\\nvalue = 0.012'),\n",
       " Text(575.4375, 163.08000000000004, 'o2toplance <= 6647.3\\nmse = 0.0\\nsamples = 257\\nvalue = 0.008'),\n",
       " Text(549.28125, 54.360000000000014, 'mse = 0.0\\nsamples = 234\\nvalue = 0.008'),\n",
       " Text(601.59375, 54.360000000000014, 'mse = 0.0\\nsamples = 23\\nvalue = 0.011'),\n",
       " Text(732.375, 271.8, 'toplanceflowrate <= 230.45\\nmse = 0.0\\nsamples = 4536\\nvalue = 0.012'),\n",
       " Text(680.0625, 163.08000000000004, 'coke_f <= 340.15\\nmse = 0.0\\nsamples = 2306\\nvalue = 0.012'),\n",
       " Text(653.90625, 54.360000000000014, 'mse = 0.0\\nsamples = 733\\nvalue = 0.011'),\n",
       " Text(706.21875, 54.360000000000014, 'mse = 0.0\\nsamples = 1573\\nvalue = 0.012'),\n",
       " Text(784.6875, 163.08000000000004, 'coke_f <= 1031.3\\nmse = 0.0\\nsamples = 2230\\nvalue = 0.011'),\n",
       " Text(758.53125, 54.360000000000014, 'mse = 0.0\\nsamples = 1936\\nvalue = 0.011'),\n",
       " Text(810.84375, 54.360000000000014, 'mse = 0.0\\nsamples = 294\\nvalue = 0.012')]"
      ]
     },
     "execution_count": 191,
     "metadata": {},
     "output_type": "execute_result"
    },
    {
     "data": {
      "image/png": "[encoded data removed]",
      "text/plain": [
       "<Figure size 1080x720 with 1 Axes>"
      ]
     },
     "metadata": {
      "needs_background": "light"
     },
     "output_type": "display_data"
    }
   ],
   "source": [
    "import matplotlib.pyplot as plt\n",
    "from sklearn.tree import plot_tree\n",
    "\n",
    "fig = plt.figure(figsize=(15, 10))\n",
    "plot_tree(dtree, \n",
    "          feature_names=features,\n",
    "          class_names=[\"LM_P\"], \n",
    "          filled=True, impurity=True, \n",
    "          rounded=True)\n",
    "\n"
   ]
  },
  {
   "cell_type": "markdown",
   "metadata": {},
   "source": [
    "#### Getting the rules of decision tree"
   ]
  },
  {
   "cell_type": "code",
   "execution_count": 192,
   "metadata": {
    "ExecuteTime": {
     "end_time": "2021-10-18T06:16:17.962319Z",
     "start_time": "2021-10-18T06:16:17.950317Z"
    }
   },
   "outputs": [],
   "source": [
    "def get_rules(tree, feature_names, class_names):\n",
    "    tree_ = tree.tree_\n",
    "    feature_name = [\n",
    "        feature_names[i] if i != _tree.TREE_UNDEFINED else \"undefined!\"\n",
    "        for i in tree_.feature\n",
    "    ]\n",
    "\n",
    "    paths = []\n",
    "    path = []\n",
    "    \n",
    "    def recurse(node, path, paths):\n",
    "        \n",
    "        if tree_.feature[node] != _tree.TREE_UNDEFINED:\n",
    "            name = feature_name[node]\n",
    "            threshold = tree_.threshold[node]\n",
    "            p1, p2 = list(path), list(path)\n",
    "            p1 += [f\"({name} <= {np.round(threshold, 3)})\"]\n",
    "            recurse(tree_.children_left[node], p1, paths)\n",
    "            p2 += [f\"({name} > {np.round(threshold, 3)})\"]\n",
    "            recurse(tree_.children_right[node], p2, paths)\n",
    "        else:\n",
    "            path += [(tree_.value[node], tree_.n_node_samples[node])]\n",
    "            paths += [path]\n",
    "            \n",
    "    recurse(0, path, paths)\n",
    "\n",
    "    # sort by samples count\n",
    "    samples_count = [p[-1][1] for p in paths]\n",
    "    ii = list(np.argsort(samples_count))\n",
    "    paths = [paths[i] for i in reversed(ii)]\n",
    "    \n",
    "    rules = []\n",
    "    for path in paths:\n",
    "        rule = \"if \"\n",
    "        \n",
    "        for p in path[:-1]:\n",
    "            if rule != \"if \":\n",
    "                rule += \" and \"\n",
    "            rule += str(p)\n",
    "        rule += \" then \"\n",
    "        if class_names is None:\n",
    "            rule += \"response: \"+str(np.round(path[-1][0][0][0],3))\n",
    "        else:\n",
    "            classes = path[-1][0][0]\n",
    "            l = np.argmax(classes)\n",
    "            rule += f\"class: {class_names[l]} (proba: {np.round(100.0*classes[l]/np.sum(classes),2)}%)\"\n",
    "        rule += f\" | based on {path[-1][1]:,} samples\"\n",
    "        rules += [rule]\n",
    "        \n",
    "    return rules"
   ]
  },
  {
   "cell_type": "code",
   "execution_count": 193,
   "metadata": {
    "ExecuteTime": {
     "end_time": "2021-10-18T06:16:18.270316Z",
     "start_time": "2021-10-18T06:16:18.263316Z"
    }
   },
   "outputs": [],
   "source": [
    "# Print rules\n",
    "from sklearn.tree import _tree\n",
    "rules = get_rules(dtree, features, None)"
   ]
  },
  {
   "cell_type": "code",
   "execution_count": 194,
   "metadata": {
    "ExecuteTime": {
     "end_time": "2021-10-18T06:16:18.605359Z",
     "start_time": "2021-10-18T06:16:18.548318Z"
    }
   },
   "outputs": [],
   "source": [
    "df = pd.DataFrame(columns = [\"1\", \"2\",\"3\",\"4\",\"5\",\"6\",\"7\"])\n",
    "for r in rules:\n",
    "    str_to_append = str(r).split('and')\n",
    "    str_to_append\n",
    "    df_length = len(df)\n",
    "    if len(str_to_append) < 4:\n",
    "        str_to_append.insert(2, \"\")\n",
    "        str_to_append.insert(3, str_to_append[3].split(\"then\")[0])\n",
    "        str_to_append.insert(4, str_to_append[4].split(\"then\")[1].split(\"|\")[0])\n",
    "        str_to_append.insert(5, str_to_append[5].split(\"then\")[1].split(\"|\")[1])\n",
    "        df.loc[df_length] = str_to_append\n",
    "    else:\n",
    "        str_to_append.insert(3, str_to_append[3].split(\"then\")[0])\n",
    "        str_to_append.insert(4, str_to_append[4].split(\"then\")[1].split(\"|\")[0])\n",
    "        str_to_append.insert(5, str_to_append[5].split(\"then\")[1].split(\"|\")[1])\n",
    "        df.loc[df_length] = str_to_append    "
   ]
  },
  {
   "cell_type": "code",
   "execution_count": 195,
   "metadata": {
    "ExecuteTime": {
     "end_time": "2021-10-18T06:16:18.919323Z",
     "start_time": "2021-10-18T06:16:18.912320Z"
    }
   },
   "outputs": [],
   "source": [
    "# Keeping columns of interest\n",
    "df_flt = df[['1', '2', '3', '4', '5', '6']]"
   ]
  },
  {
   "cell_type": "code",
   "execution_count": 196,
   "metadata": {
    "ExecuteTime": {
     "end_time": "2021-10-18T06:16:19.283352Z",
     "start_time": "2021-10-18T06:16:19.271318Z"
    }
   },
   "outputs": [],
   "source": [
    "def replace_strings(row):\n",
    "    \"\"\"\n",
    "    \n",
    "    This function will replace the strings in the columns\n",
    "    \"\"\"\n",
    "    row['1'] = row['1'].replace('if (','')\n",
    "    row['1'] = row['1'].replace(') ','')\n",
    "    row['2'] = row['2'].replace(' (','')\n",
    "    row['2'] = row['2'].replace(') ','')\n",
    "    row['3'] = row['3'].replace(' (','')\n",
    "    row['3'] = row['3'].replace(') ','')\n",
    "    row['4'] = row['4'].replace(' (','')\n",
    "    row['4'] = row['4'].replace(') ','')\n",
    "    row['5'] = row['5'].replace(' response: ','')\n",
    "    row['5'] = row['5'].replace(' ','')\n",
    "    row['6'] = row['6'].replace(' based on ','')\n",
    "    row['6'] = row['6'].replace(' samples','')\n",
    "    \n",
    "    return row"
   ]
  },
  {
   "cell_type": "code",
   "execution_count": 197,
   "metadata": {
    "ExecuteTime": {
     "end_time": "2021-10-18T06:16:19.622318Z",
     "start_time": "2021-10-18T06:16:19.609319Z"
    }
   },
   "outputs": [],
   "source": [
    "# Calling the function to run it\n",
    "df_flt = df_flt.apply(replace_strings, axis =1)"
   ]
  },
  {
   "cell_type": "code",
   "execution_count": 198,
   "metadata": {
    "ExecuteTime": {
     "end_time": "2021-10-18T06:16:19.919351Z",
     "start_time": "2021-10-18T06:16:19.913318Z"
    }
   },
   "outputs": [],
   "source": [
    "# Renaming the columns\n",
    "df_flt.columns = ['Split1','Split2','Split3','Split4','Suggested_value','No_of_Samples']"
   ]
  },
  {
   "cell_type": "code",
   "execution_count": 199,
   "metadata": {
    "ExecuteTime": {
     "end_time": "2021-10-18T06:16:20.377315Z",
     "start_time": "2021-10-18T06:16:20.290320Z"
    }
   },
   "outputs": [],
   "source": [
    "# Saving the dataset\n",
    "df_flt.to_excel(f\"{output_path}/Decision_Tree_rules_tabular_{now}.xlsx\", index=False)"
   ]
  },
  {
   "cell_type": "markdown",
   "metadata": {},
   "source": [
    "##### Running regression model for each sample"
   ]
  },
  {
   "cell_type": "code",
   "execution_count": 200,
   "metadata": {
    "ExecuteTime": {
     "end_time": "2021-10-18T06:16:21.471321Z",
     "start_time": "2021-10-18T06:16:20.716317Z"
    }
   },
   "outputs": [
    {
     "name": "stdout",
     "output_type": "stream",
     "text": [
      "\n",
      "df1 = train_df[(train_df['o2decarb'] > 2468.5) & (train_df['dri_blow'] > 10.55) & (train_df['toplanceflowrate'] > 230.45) & (train_df['coke_f'] <= 1031.3)]\n",
      "df2 = train_df[(train_df['o2decarb'] > 2468.5) & (train_df['dri_blow'] > 10.55) & (train_df['toplanceflowrate'] <= 230.45) & (train_df['coke_f'] > 340.15)]\n",
      "df3 = train_df[(train_df['o2decarb'] <= 2468.5) & (train_df['dri_blow'] > 12.75) & (train_df['coke_f'] <= 398.5) & (train_df['dololime_setup'] > 0.15)]\n",
      "df4 = train_df[(train_df['o2decarb'] <= 2468.5) & (train_df['dri_blow'] > 12.75) & (train_df['coke_f'] > 398.5) & (train_df['bathwt'] > 171.35)]\n",
      "df5 = train_df[(train_df['o2decarb'] > 2468.5) & (train_df['dri_blow'] > 10.55) & (train_df['toplanceflowrate'] <= 230.45) & (train_df['coke_f'] <= 340.15)]\n",
      "df6 = train_df[(train_df['o2decarb'] > 2468.5) & (train_df['dri_blow'] <= 10.55) & (train_df['lime_arc'] <= 4.85) & (train_df['dri_arc'] <= 75.6)]\n",
      "df7 = train_df[(train_df['o2decarb'] > 2468.5) & (train_df['dri_blow'] > 10.55) & (train_df['toplanceflowrate'] > 230.45) & (train_df['coke_f'] > 1031.3)]\n",
      "df8 = train_df[(train_df['o2decarb'] > 2468.5) & (train_df['dri_blow'] <= 10.55) & (train_df['lime_arc'] > 4.85) & (train_df['o2toplance'] <= 6647.3)]\n",
      "df9 = train_df[(train_df['o2decarb'] <= 2468.5) & (train_df['dri_blow'] <= 12.75) & (train_df['o2decarb'] <= 2009.0) & (train_df['bathwt'] <= 232.25)]\n",
      "df10 = train_df[(train_df['o2decarb'] <= 2468.5) & (train_df['dri_blow'] > 12.75) & (train_df['coke_f'] <= 398.5) & (train_df['dololime_setup'] <= 0.15)]\n",
      "df11 = train_df[(train_df['o2decarb'] <= 2468.5) & (train_df['dri_blow'] <= 12.75) & (train_df['o2decarb'] > 2009.0) & (train_df['dri_arc'] > 54.65)]\n",
      "df12 = train_df[(train_df['o2decarb'] <= 2468.5) & (train_df['dri_blow'] <= 12.75) & (train_df['o2decarb'] > 2009.0) & (train_df['dri_arc'] <= 54.65)]\n",
      "df13 = train_df[(train_df['o2decarb'] > 2468.5) & (train_df['dri_blow'] <= 10.55) & (train_df['lime_arc'] <= 4.85) & (train_df['dri_arc'] > 75.6)]\n",
      "df14 = train_df[(train_df['o2decarb'] > 2468.5) & (train_df['dri_blow'] <= 10.55) & (train_df['lime_arc'] > 4.85) & (train_df['o2toplance'] > 6647.3)]\n",
      "df15 = train_df[(train_df['o2decarb'] <= 2468.5) & (train_df['dri_blow'] > 12.75) & (train_df['coke_f'] > 398.5) & (train_df['bathwt'] <= 171.35)]\n",
      "df16 = train_df[(train_df['o2decarb'] <= 2468.5) & (train_df['dri_blow'] <= 12.75) & (train_df['o2decarb'] <= 2009.0) & (train_df['bathwt'] > 232.25)]\n"
     ]
    }
   ],
   "source": [
    "# reading the ads file\n",
    "# train_test_df = pd.read_excel(f'Temp Outputs//train_test_df.xlsx')\n",
    "\n",
    "# reading decision tree rules\n",
    "dt_rules = pd.read_excel(f'{output_path}/Decision_Tree_rules_tabular_{now}.xlsx', engine = 'openpyxl')\n",
    "\n",
    "# keeping only the split1, split2, split3 & split4 cols\n",
    "dt_rules = dt_rules[['Split1','Split2','Split3','Split4']]\n",
    "\n",
    "# extracting rule information from string\n",
    "def get_rules_from_string(rule):\n",
    "    \n",
    "    col = rule.split(' ')[0]\n",
    "    ope = rule.split(' ')[1]\n",
    "    val = rule.split(' ')[2]\n",
    "    \n",
    "    return col, ope, val\n",
    "\n",
    "# print rules from rule df\n",
    "def print_rules(df_name = 'train_df', rules = dt_rules):\n",
    "    \n",
    "    main_rules = ''\n",
    "    for i in range(len(dt_rules)):\n",
    "        \n",
    "        df_sub = f'df{i+1}'\n",
    "        condition_string = ''\n",
    "        for j in range(0,4):\n",
    "            col,ope,val = get_rules_from_string(dt_rules.iloc[i,j])\n",
    "            split_string = '(' + f\"{df_name}['{col}'] {ope} {val}\" + ')'\n",
    "            \n",
    "            if j != 3:\n",
    "                split_string = split_string + ' & '\n",
    "            condition_string = condition_string + split_string\n",
    "            \n",
    "        rule_string = f\"{df_sub} = {df_name}[{condition_string}]\"\n",
    "        main_rules = main_rules + '\\n' + rule_string\n",
    "    \n",
    "    return main_rules\n",
    "\n",
    "# print rules from rule df\n",
    "def get_splits(df_name = 'row', rules = dt_rules):\n",
    "    \n",
    "    main_rules = []\n",
    "    for i in range(len(dt_rules)):\n",
    "        \n",
    "        df_sub = f'df{i}'\n",
    "        condition_string = ''\n",
    "        for j in range(0,4):\n",
    "            col,ope,val = get_rules_from_string(dt_rules.iloc[i,j])\n",
    "            split_string = '(' + f\"{df_name}['{col}'] {ope} {val}\" + ')'\n",
    "            \n",
    "            if j != 3:\n",
    "                split_string = split_string + ' and '\n",
    "            condition_string = condition_string + split_string\n",
    "            \n",
    "        rule_string = f\"elif {condition_string}:\"\n",
    "        main_rules.append(rule_string)\n",
    "    \n",
    "    return main_rules\n",
    "\n",
    "# getting rules\n",
    "rule_string = print_rules()\n",
    "# getting rule splits for report\n",
    "splits = get_splits()\n",
    "\n",
    "# saving rules locally        \n",
    "with open(f'{output_path}/rule_string_{now}.txt', 'w') as file:\n",
    "    file.write(rule_string)\n",
    "    \n",
    "# printing here so that user can directly copy\n",
    "print(rule_string)"
   ]
  },
  {
   "cell_type": "code",
   "execution_count": 201,
   "metadata": {
    "ExecuteTime": {
     "end_time": "2021-10-18T06:16:34.121449Z",
     "start_time": "2021-10-18T06:16:34.064454Z"
    }
   },
   "outputs": [],
   "source": [
    "df1 = train_df[(train_df['o2decarb'] > 2468.5) & (train_df['dri_blow'] > 10.55) & (train_df['toplanceflowrate'] > 230.45) & (train_df['coke_f'] <= 1031.3)]\n",
    "df2 = train_df[(train_df['o2decarb'] > 2468.5) & (train_df['dri_blow'] > 10.55) & (train_df['toplanceflowrate'] <= 230.45) & (train_df['coke_f'] > 340.15)]\n",
    "df3 = train_df[(train_df['o2decarb'] <= 2468.5) & (train_df['dri_blow'] > 12.75) & (train_df['coke_f'] <= 398.5) & (train_df['dololime_setup'] > 0.15)]\n",
    "df4 = train_df[(train_df['o2decarb'] <= 2468.5) & (train_df['dri_blow'] > 12.75) & (train_df['coke_f'] > 398.5) & (train_df['bathwt'] > 171.35)]\n",
    "df5 = train_df[(train_df['o2decarb'] > 2468.5) & (train_df['dri_blow'] > 10.55) & (train_df['toplanceflowrate'] <= 230.45) & (train_df['coke_f'] <= 340.15)]\n",
    "df6 = train_df[(train_df['o2decarb'] > 2468.5) & (train_df['dri_blow'] <= 10.55) & (train_df['lime_arc'] <= 4.85) & (train_df['dri_arc'] <= 75.6)]\n",
    "df7 = train_df[(train_df['o2decarb'] > 2468.5) & (train_df['dri_blow'] > 10.55) & (train_df['toplanceflowrate'] > 230.45) & (train_df['coke_f'] > 1031.3)]\n",
    "df8 = train_df[(train_df['o2decarb'] > 2468.5) & (train_df['dri_blow'] <= 10.55) & (train_df['lime_arc'] > 4.85) & (train_df['o2toplance'] <= 6647.3)]\n",
    "df9 = train_df[(train_df['o2decarb'] <= 2468.5) & (train_df['dri_blow'] <= 12.75) & (train_df['o2decarb'] <= 2009.0) & (train_df['bathwt'] <= 232.25)]\n",
    "df10 = train_df[(train_df['o2decarb'] <= 2468.5) & (train_df['dri_blow'] > 12.75) & (train_df['coke_f'] <= 398.5) & (train_df['dololime_setup'] <= 0.15)]\n",
    "df11 = train_df[(train_df['o2decarb'] <= 2468.5) & (train_df['dri_blow'] <= 12.75) & (train_df['o2decarb'] > 2009.0) & (train_df['dri_arc'] > 54.65)]\n",
    "df12 = train_df[(train_df['o2decarb'] <= 2468.5) & (train_df['dri_blow'] <= 12.75) & (train_df['o2decarb'] > 2009.0) & (train_df['dri_arc'] <= 54.65)]\n",
    "df13 = train_df[(train_df['o2decarb'] > 2468.5) & (train_df['dri_blow'] <= 10.55) & (train_df['lime_arc'] <= 4.85) & (train_df['dri_arc'] > 75.6)]\n",
    "df14 = train_df[(train_df['o2decarb'] > 2468.5) & (train_df['dri_blow'] <= 10.55) & (train_df['lime_arc'] > 4.85) & (train_df['o2toplance'] > 6647.3)]\n",
    "df15 = train_df[(train_df['o2decarb'] <= 2468.5) & (train_df['dri_blow'] > 12.75) & (train_df['coke_f'] > 398.5) & (train_df['bathwt'] <= 171.35)]\n",
    "df16 = train_df[(train_df['o2decarb'] <= 2468.5) & (train_df['dri_blow'] <= 12.75) & (train_df['o2decarb'] <= 2009.0) & (train_df['bathwt'] > 232.25)]"
   ]
  },
  {
   "cell_type": "code",
   "execution_count": 202,
   "metadata": {
    "ExecuteTime": {
     "end_time": "2021-10-18T06:16:35.921458Z",
     "start_time": "2021-10-18T06:16:35.914492Z"
    }
   },
   "outputs": [],
   "source": [
    "# Creating a list of dataset\n",
    "df_list = [df1,df2,df3,df4,df5,df6,df7,df8,df9,df10,df11,df12,df13,df14,df15,df16]"
   ]
  },
  {
   "cell_type": "code",
   "execution_count": 203,
   "metadata": {
    "ExecuteTime": {
     "end_time": "2021-10-18T06:16:39.617453Z",
     "start_time": "2021-10-18T06:16:39.610449Z"
    }
   },
   "outputs": [],
   "source": [
    "# dropping unnecessary features in regression\n",
    "#unnec = ['lime_setup','temp']\n",
    "#unnec = ['lime_setup','hm_c','temp']\n",
    "#reg_features = [x for x in features if x not in unnec]\n",
    "\n",
    "reg_features = [\n",
    " #'lime_setup',\n",
    " 'dololime_setup',\n",
    " #'hotmetal',\n",
    " #'bathwt',\n",
    " #'toplanceflowrate',\n",
    " #'o2toplance',\n",
    " 'dri_blow',\n",
    " 'dri_arc',\n",
    " 'lime_blowi',\n",
    " 'lime_arc',\n",
    " 'dolo_blow',\n",
    " 'dolo_arc',\n",
    "# 'coke_f',\n",
    "# 'temp',\n",
    " 'o2decarb',\n",
    " 'hm_c_tons',\n",
    " 'hm_si_tons',\n",
    " 'hm_p_tons',\n",
    " 'hm_mn_tons'\n",
    "]"
   ]
  },
  {
   "cell_type": "code",
   "execution_count": 204,
   "metadata": {
    "ExecuteTime": {
     "end_time": "2021-10-18T06:16:42.102503Z",
     "start_time": "2021-10-18T06:16:41.143452Z"
    }
   },
   "outputs": [
    {
     "name": "stdout",
     "output_type": "stream",
     "text": [
      "MAPE :  33.29388238037832\n",
      "Adjusted R2 :  87.6\n",
      "-0.0002 * row['dololime_setup'] + 6.64e-05 * row['dri_blow'] + 8.425e-05 * row['dri_arc'] + -0.0002 * row['lime_blowi'] + -7.735e-05 * row['lime_arc'] + -6.731e-05 * row['dolo_blow'] + -0.0004 * row['dolo_arc'] + -6.845e-07 * row['o2decarb'] + 0.0011 * row['hm_c_tons'] + 0.0002 * row['hm_si_tons'] + 0.0214 * row['hm_p_tons'] + 0.0003 * row['hm_mn_tons']\n",
      "MAPE :  32.734035849975214\n",
      "Adjusted R2 :  88.8\n",
      "-0.0002 * row['dololime_setup'] + 5.605e-05 * row['dri_blow'] + 6.982e-05 * row['dri_arc'] + -0.0003 * row['lime_blowi'] + -2.663e-06 * row['lime_arc'] + -0.0005 * row['dolo_blow'] + -0.0004 * row['dolo_arc'] + -5.209e-07 * row['o2decarb'] + 0.0017 * row['hm_c_tons'] + 0.0004 * row['hm_si_tons'] + 0.006 * row['hm_p_tons'] + 0.0008 * row['hm_mn_tons']\n",
      "MAPE :  37.221466433247265\n",
      "Adjusted R2 :  86.7\n",
      "0.0004 * row['dololime_setup'] + 8.103e-05 * row['dri_blow'] + 7.429e-05 * row['dri_arc'] + -0.0003 * row['lime_blowi'] + 2.236e-06 * row['lime_arc'] + -0.0005 * row['dolo_blow'] + -0.0002 * row['dolo_arc'] + -4.295e-07 * row['o2decarb'] + 0.0009 * row['hm_c_tons'] + 0.0009 * row['hm_si_tons'] + 0.0161 * row['hm_p_tons'] + 0.0014 * row['hm_mn_tons']\n",
      "MAPE :  33.76664475801959\n",
      "Adjusted R2 :  87.8\n",
      "-0.0004 * row['dololime_setup'] + 8.741e-05 * row['dri_blow'] + 5.692e-05 * row['dri_arc'] + -0.0002 * row['lime_blowi'] + 0.0003 * row['lime_arc'] + -0.0009 * row['dolo_blow'] + -0.0001 * row['dolo_arc'] + -4.207e-07 * row['o2decarb'] + 0.0012 * row['hm_c_tons'] + 0.0003 * row['hm_si_tons'] + 0.0185 * row['hm_p_tons'] + 0.001 * row['hm_mn_tons']\n",
      "MAPE :  31.686441432335954\n",
      "Adjusted R2 :  89.0\n",
      "-0.0002 * row['dololime_setup'] + 5.155e-05 * row['dri_blow'] + 9.918e-05 * row['dri_arc'] + -0.0001 * row['lime_blowi'] + 1.504e-07 * row['lime_arc'] + 0.0001 * row['dolo_blow'] + -0.0002 * row['dolo_arc'] + -8.667e-07 * row['o2decarb'] + 0.0012 * row['hm_c_tons'] + -0.0004 * row['hm_si_tons'] + 0.0122 * row['hm_p_tons'] + 0.0011 * row['hm_mn_tons']\n",
      "MAPE :  32.001058381694754\n",
      "Adjusted R2 :  90.0\n",
      "-0.0004 * row['dololime_setup'] + 0.0001 * row['dri_blow'] + 7.293e-05 * row['dri_arc'] + -0.0002 * row['lime_blowi'] + -0.0004 * row['lime_arc'] + -0.0004 * row['dolo_blow'] + -0.0006 * row['dolo_arc'] + -2.045e-07 * row['o2decarb'] + 0.0011 * row['hm_c_tons'] + 0.0004 * row['hm_si_tons'] + 0.0209 * row['hm_p_tons'] + 0.0017 * row['hm_mn_tons']\n",
      "MAPE :  32.14830241221281\n",
      "Adjusted R2 :  88.7\n",
      "-0.0002 * row['dololime_setup'] + 2.853e-05 * row['dri_blow'] + 5.935e-05 * row['dri_arc'] + 0.0002 * row['lime_blowi'] + 3.917e-06 * row['lime_arc'] + -0.0016 * row['dolo_blow'] + -0.0003 * row['dolo_arc'] + -8.309e-07 * row['o2decarb'] + 0.0025 * row['hm_c_tons'] + -0.001 * row['hm_si_tons'] + -0.0218 * row['hm_p_tons'] + 0.002 * row['hm_mn_tons']\n",
      "MAPE :  28.794407239132617\n",
      "Adjusted R2 :  92.9\n",
      "-0.0004 * row['dololime_setup'] + 0.0002 * row['dri_blow'] + 9.411e-05 * row['dri_arc'] + -0.0002 * row['lime_blowi'] + -0.0002 * row['lime_arc'] + -0.0014 * row['dolo_blow'] + -0.0004 * row['dolo_arc'] + -2.145e-07 * row['o2decarb'] + 0.0008 * row['hm_c_tons'] + 0.0011 * row['hm_si_tons'] + 0.0114 * row['hm_p_tons'] + 0.0005 * row['hm_mn_tons']\n",
      "MAPE :  30.13836506413254\n",
      "Adjusted R2 :  90.10000000000001\n",
      "-0.0001 * row['dololime_setup'] + 0.0002 * row['dri_blow'] + 6.984e-05 * row['dri_arc'] + -0.0004 * row['lime_blowi'] + -0.0002 * row['lime_arc'] + -0.001 * row['dolo_blow'] + -0.0007 * row['dolo_arc'] + 3.047e-06 * row['o2decarb'] + 0.0005 * row['hm_c_tons'] + 0.0001 * row['hm_si_tons'] + 0.034 * row['hm_p_tons'] + -0.0004 * row['hm_mn_tons']\n",
      "MAPE :  37.128358471558634\n",
      "Adjusted R2 :  85.0\n",
      "0.0325 * row['dololime_setup'] + 0.0001 * row['dri_blow'] + 1.104e-05 * row['dri_arc'] + -0.0004 * row['lime_blowi'] + 0.0006 * row['lime_arc'] + -0.001 * row['dolo_blow'] + -0.0009 * row['dolo_arc'] + 2.108e-06 * row['o2decarb'] + -0.0001 * row['hm_c_tons'] + 0.0027 * row['hm_si_tons'] + 0.0538 * row['hm_p_tons'] + 0.0032 * row['hm_mn_tons']\n",
      "MAPE :  35.9968299971217\n",
      "Adjusted R2 :  87.2\n",
      "-0.0009 * row['dololime_setup'] + 1.602e-05 * row['dri_blow'] + 7.277e-05 * row['dri_arc'] + -0.0001 * row['lime_blowi'] + -0.0004 * row['lime_arc'] + -0.0019 * row['dolo_blow'] + -0.0002 * row['dolo_arc'] + -1.598e-06 * row['o2decarb'] + 0.0017 * row['hm_c_tons'] + -0.0004 * row['hm_si_tons'] + 0.0321 * row['hm_p_tons'] + 8.575e-05 * row['hm_mn_tons']\n",
      "MAPE :  28.45697250120287\n",
      "Adjusted R2 :  90.2\n",
      "0.0003 * row['dololime_setup'] + 0.0002 * row['dri_blow'] + 8.018e-05 * row['dri_arc'] + -0.0004 * row['lime_blowi'] + -0.0003 * row['lime_arc'] + 0.0002 * row['dolo_blow'] + -0.0003 * row['dolo_arc'] + 3.903e-06 * row['o2decarb'] + -0.0004 * row['hm_c_tons'] + 0.0001 * row['hm_si_tons'] + 0.0104 * row['hm_p_tons'] + 0.0006 * row['hm_mn_tons']\n",
      "MAPE :  29.972329437976942\n",
      "Adjusted R2 :  93.30000000000001\n",
      "-0.0002 * row['dololime_setup'] + 0.0002 * row['dri_blow'] + 6.856e-05 * row['dri_arc'] + -0.0006 * row['lime_blowi'] + -0.0013 * row['lime_arc'] + 0.0007 * row['dolo_blow'] + -0.0007 * row['dolo_arc'] + -2.157e-07 * row['o2decarb'] + 0.0026 * row['hm_c_tons'] + -0.0046 * row['hm_si_tons'] + 0.0453 * row['hm_p_tons'] + 0.0005 * row['hm_mn_tons']\n",
      "MAPE :  27.817709189126894\n",
      "Adjusted R2 :  97.6\n",
      "0.0006 * row['dololime_setup'] + 0.0002 * row['dri_blow'] + 0.0001 * row['dri_arc'] + -0.0007 * row['lime_blowi'] + -0.001 * row['lime_arc'] + -0.0013 * row['dolo_blow'] + -0.0005 * row['dolo_arc'] + -1.041e-06 * row['o2decarb'] + 0.0031 * row['hm_c_tons'] + 0.0022 * row['hm_si_tons'] + -0.0196 * row['hm_p_tons'] + -0.0019 * row['hm_mn_tons']\n",
      "MAPE :  52.8665806993617\n",
      "Adjusted R2 :  84.0\n",
      "-0.0004 * row['dololime_setup'] + -0.0005 * row['dri_blow'] + 8.026e-05 * row['dri_arc'] + -0.0009 * row['lime_blowi'] + 0.0005 * row['lime_arc'] + -0.0864 * row['dolo_blow'] + 0.0052 * row['dolo_arc'] + -4.778e-07 * row['o2decarb'] + 0.0068 * row['hm_c_tons'] + 0.0018 * row['hm_si_tons'] + -0.0065 * row['hm_p_tons'] + -0.0051 * row['hm_mn_tons']\n",
      "MAPE :  39.78536656575156\n",
      "Adjusted R2 :  87.7\n",
      "-0.0007 * row['dololime_setup'] + 0.0005 * row['dri_blow'] + 0.0001 * row['dri_arc'] + 0.0002 * row['lime_blowi'] + 0.0004 * row['lime_arc'] + 3.671e-16 * row['dolo_blow'] + -0.0012 * row['dolo_arc'] + -2.588e-06 * row['o2decarb'] + 0.0076 * row['hm_c_tons'] + -0.0048 * row['hm_si_tons'] + -0.202 * row['hm_p_tons'] + 0.0041 * row['hm_mn_tons']\n"
     ]
    }
   ],
   "source": [
    "# 'equations' is used to print the rules for the model which can be plugged into the optimization code\n",
    "equations = []\n",
    "mapes = []\n",
    "r2s = []\n",
    "for i in df_list:\n",
    "    # Put the target (housing value -- MEDV) in another DataFrame\n",
    "    X = i[reg_features]\n",
    "    y = i[[\"lm_p\"]]\n",
    "\n",
    "    # Note the difference in argument order\n",
    "    model = sm.OLS(y, X).fit()\n",
    "    \n",
    "    predictions = model.predict(X) # make the predictions by the model\n",
    "    \n",
    "    # Mape calculation\n",
    "    y_true, y_pred = np.array(y), np.array(predictions)\n",
    "    print(\"MAPE : \", np.mean(np.abs((y_true - y_pred) / y_true)) * 100)\n",
    "    mapes.append(\"MAPE : \" + str(np.mean(np.abs((y_true - y_pred) / y_true)) * 100))\n",
    "\n",
    "    # Print out the statistics\n",
    "    #model.summary()\n",
    "    \n",
    "    # Calculating R Square\n",
    "    r_squared_table = pd.read_html(model.summary().tables[0].as_html(),header=0,index_col=0)[0]\n",
    "    r_squared_table.columns = ['1','2','3']\n",
    "    try:\n",
    "        adj_r_square = float(r_squared_table[r_squared_table['2']=='Adj. R-squared (uncentered):']['3']) * 100\n",
    "    except:\n",
    "        adj_r_square = float(r_squared_table[r_squared_table['2']=='Adj. R-squared:']['3']) * 100\n",
    "\n",
    "    # Saving R2s\n",
    "    r2s.append(\"Adjusted RSquared : \" + str(adj_r_square))\n",
    "    \n",
    "    # Getting the coefficient table\n",
    "    coefficient_table = pd.read_html(model.summary().tables[1].as_html(),header=0,index_col=0)[0]\n",
    "\n",
    "    # Resetting the index\n",
    "    coefficient_table = coefficient_table.reset_index()\n",
    "\n",
    "    # Keeping columns of interest\n",
    "    coefficient_table = coefficient_table[['index','coef']]\n",
    "\n",
    "    equation = ''\n",
    "    for i in range(coefficient_table.shape[0]):\n",
    "        if i == 0:\n",
    "            equation = str(coefficient_table['coef'][i]) + ' * ' + \"row[\\'\" +str(coefficient_table['index'][i]) +\"\\']\"\n",
    "        else:\n",
    "            equation = equation + \" + \" + str(coefficient_table['coef'][i]) + ' * ' + 'row[\\'' + str(coefficient_table['index'][i]) + '\\']'\n",
    "    \n",
    "    # saving equations\n",
    "    equations.append(\"row['lm_p_predicted'] = \" + equation)\n",
    "    \n",
    "    print(\"Adjusted R2 : \",adj_r_square)       \n",
    "    print(equation)"
   ]
  },
  {
   "cell_type": "code",
   "execution_count": 205,
   "metadata": {
    "ExecuteTime": {
     "end_time": "2021-10-18T06:16:45.564769Z",
     "start_time": "2021-10-18T06:16:45.555768Z"
    }
   },
   "outputs": [],
   "source": [
    "with open(f'{output_path}/model_report.txt','w') as file:\n",
    "    \n",
    "#     # writing time period\n",
    "#     file.write(\"Time period : \" + train_test_time_period)\n",
    "#     file.write(\"\\n\")\n",
    "    \n",
    "    # writing features\n",
    "    file.write(\"\\n ##################### Features used ####################### \\n\")\n",
    "    file.write(\"\\n Decision Tree features\\n\")\n",
    "    file.write(\", \".join(features))\n",
    "    file.write(\"\\n Regression Features \\n\")\n",
    "    file.write(\", \".join(reg_features))\n",
    "    file.write(\"\\n\")\n",
    "    \n",
    "    # model summary\n",
    "    file.write(\"\\n ##################### Model Summary #######################\\n\")\n",
    "    for i in range(len(equations)):\n",
    "        file.write(mapes[i])\n",
    "        file.write('\\n')\n",
    "        file.write(r2s[i])\n",
    "        file.write('\\n')\n",
    "        file.write(equations[i])\n",
    "        file.write('\\n')\n",
    "        file.write('\\n')\n",
    "    \n",
    "    # writing rules for optimization python code\n",
    "    file.write(\"\\n ############## Rules for Prediction Python Code ################ \\n\")\n",
    "    for i in range(len(splits)):\n",
    "        file.write(splits[i])\n",
    "        file.write('\\n\\t')\n",
    "        file.write(equations[i])\n",
    "        file.write('\\n\\n')\n"
   ]
  },
  {
   "cell_type": "code",
   "execution_count": 207,
   "metadata": {},
   "outputs": [
    {
     "data": {
      "text/plain": [
       "'C:\\\\Flux\\\\Codes\\\\p_model_training'"
      ]
     },
     "execution_count": 207,
     "metadata": {},
     "output_type": "execute_result"
    }
   ],
   "source": [
    "\n",
    "os.getcwd()"
   ]
  },
  {
   "cell_type": "code",
   "execution_count": null,
   "metadata": {},
   "outputs": [],
   "source": []
  },
  {
   "cell_type": "code",
   "execution_count": null,
   "metadata": {},
   "outputs": [],
   "source": []
  }
 ],
 "metadata": {
  "kernelspec": {
   "display_name": "Python 3",
   "language": "python",
   "name": "python3"
  },
  "language_info": {
   "codemirror_mode": {
    "name": "ipython",
    "version": 3
   },
   "file_extension": ".py",
   "mimetype": "text/x-python",
   "name": "python",
   "nbconvert_exporter": "python",
   "pygments_lexer": "ipython3",
   "version": "3.8.8"
  },
  "toc": {
   "base_numbering": 1,
   "nav_menu": {},
   "number_sections": true,
   "sideBar": true,
   "skip_h1_title": false,
   "title_cell": "Table of Contents",
   "title_sidebar": "Contents",
   "toc_cell": true,
   "toc_position": {},
   "toc_section_display": true,
   "toc_window_display": false
  },
  "varInspector": {
   "cols": {
    "lenName": 16,
    "lenType": 16,
    "lenVar": 40
   },
   "kernels_config": {
    "python": {
     "delete_cmd_postfix": "",
     "delete_cmd_prefix": "del ",
     "library": "var_list.py",
     "varRefreshCmd": "print(var_dic_list())"
    },
    "r": {
     "delete_cmd_postfix": ") ",
     "delete_cmd_prefix": "rm(",
     "library": "var_list.r",
     "varRefreshCmd": "cat(var_dic_list()) "
    }
   },
   "types_to_exclude": [
    "module",
    "function",
    "builtin_function_or_method",
    "instance",
    "_Feature"
   ],
   "window_display": false
  }
 },
 "nbformat": 4,
 "nbformat_minor": 4
}
